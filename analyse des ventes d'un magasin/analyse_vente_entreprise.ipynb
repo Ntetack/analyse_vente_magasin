{
 "cells": [
  {
   "cell_type": "markdown",
   "id": "7a966c22",
   "metadata": {},
   "source": [
    "# découverte des données"
   ]
  },
  {
   "cell_type": "code",
   "execution_count": 1,
   "id": "bb34ffd6",
   "metadata": {},
   "outputs": [],
   "source": [
    "import os \n",
    "import pandas as pd\n",
    "import matplotlib.pyplot as plt\n",
    "import seaborn as sns"
   ]
  },
  {
   "cell_type": "code",
   "execution_count": 4,
   "id": "ac210b64",
   "metadata": {},
   "outputs": [
    {
     "name": "stdout",
     "output_type": "stream",
     "text": [
      "Sales_April_2019.csv\n",
      "Sales_August_2019.csv\n",
      "Sales_December_2019.csv\n",
      "Sales_February_2019.csv\n",
      "Sales_January_2019.csv\n",
      "Sales_July_2019.csv\n",
      "Sales_June_2019.csv\n",
      "Sales_March_2019.csv\n",
      "Sales_May_2019.csv\n",
      "Sales_November_2019.csv\n",
      "Sales_October_2019.csv\n",
      "Sales_September_2019.csv\n"
     ]
    }
   ],
   "source": [
    "#collect files names\n",
    "files = [file for file in os.listdir(\n",
    "    r'C:/Users/LIEUMO NJOPNU/Documents/ml_files/data analysis project/dataset/data-sales-main')]\n",
    "\n",
    "for file in files:\n",
    "    print(file)"
   ]
  },
  {
   "cell_type": "code",
   "execution_count": 6,
   "id": "a40a8587",
   "metadata": {},
   "outputs": [
    {
     "name": "stdout",
     "output_type": "stream",
     "text": [
      "      Order ID                     Product Quantity Ordered Price Each  \\\n",
      "0       176558        USB-C Charging Cable                2      11.95   \n",
      "1          NaN                         NaN              NaN        NaN   \n",
      "2       176559  Bose SoundSport Headphones                1      99.99   \n",
      "3       176560                Google Phone                1        600   \n",
      "4       176560            Wired Headphones                1      11.99   \n",
      "...        ...                         ...              ...        ...   \n",
      "11681   259353      AAA Batteries (4-pack)                3       2.99   \n",
      "11682   259354                      iPhone                1        700   \n",
      "11683   259355                      iPhone                1        700   \n",
      "11684   259356      34in Ultrawide Monitor                1     379.99   \n",
      "11685   259357        USB-C Charging Cable                1      11.95   \n",
      "\n",
      "           Order Date                         Purchase Address  \n",
      "0      04/19/19 08:46             917 1st St, Dallas, TX 75001  \n",
      "1                 NaN                                      NaN  \n",
      "2      04/07/19 22:30        682 Chestnut St, Boston, MA 02215  \n",
      "3      04/12/19 14:38     669 Spruce St, Los Angeles, CA 90001  \n",
      "4      04/12/19 14:38     669 Spruce St, Los Angeles, CA 90001  \n",
      "...               ...                                      ...  \n",
      "11681  09/17/19 20:56   840 Highland St, Los Angeles, CA 90001  \n",
      "11682  09/01/19 16:00  216 Dogwood St, San Francisco, CA 94016  \n",
      "11683  09/23/19 07:39     220 12th St, San Francisco, CA 94016  \n",
      "11684  09/19/19 17:30   511 Forest St, San Francisco, CA 94016  \n",
      "11685  09/30/19 00:18   250 Meadow St, San Francisco, CA 94016  \n",
      "\n",
      "[186850 rows x 6 columns]\n"
     ]
    }
   ],
   "source": [
    "path = r'C:/Users/LIEUMO NJOPNU/Documents/ml_files/data analysis project/dataset/data-sales-main'\n",
    "\n",
    "#create database\n",
    "all_data = pd.DataFrame()\n",
    "\n",
    "for file in files:\n",
    "    current_data = pd.read_csv(path+'/'+file)\n",
    "    all_data = pd.concat([all_data, current_data])\n",
    "print(all_data)"
   ]
  },
  {
   "cell_type": "code",
   "execution_count": 7,
   "id": "48a5d216",
   "metadata": {},
   "outputs": [
    {
     "data": {
      "text/html": [
       "<div>\n",
       "<style scoped>\n",
       "    .dataframe tbody tr th:only-of-type {\n",
       "        vertical-align: middle;\n",
       "    }\n",
       "\n",
       "    .dataframe tbody tr th {\n",
       "        vertical-align: top;\n",
       "    }\n",
       "\n",
       "    .dataframe thead th {\n",
       "        text-align: right;\n",
       "    }\n",
       "</style>\n",
       "<table border=\"1\" class=\"dataframe\">\n",
       "  <thead>\n",
       "    <tr style=\"text-align: right;\">\n",
       "      <th></th>\n",
       "      <th>Order ID</th>\n",
       "      <th>Product</th>\n",
       "      <th>Quantity Ordered</th>\n",
       "      <th>Price Each</th>\n",
       "      <th>Order Date</th>\n",
       "      <th>Purchase Address</th>\n",
       "    </tr>\n",
       "  </thead>\n",
       "  <tbody>\n",
       "    <tr>\n",
       "      <th>0</th>\n",
       "      <td>176558</td>\n",
       "      <td>USB-C Charging Cable</td>\n",
       "      <td>2</td>\n",
       "      <td>11.95</td>\n",
       "      <td>04/19/19 08:46</td>\n",
       "      <td>917 1st St, Dallas, TX 75001</td>\n",
       "    </tr>\n",
       "    <tr>\n",
       "      <th>1</th>\n",
       "      <td>NaN</td>\n",
       "      <td>NaN</td>\n",
       "      <td>NaN</td>\n",
       "      <td>NaN</td>\n",
       "      <td>NaN</td>\n",
       "      <td>NaN</td>\n",
       "    </tr>\n",
       "    <tr>\n",
       "      <th>2</th>\n",
       "      <td>176559</td>\n",
       "      <td>Bose SoundSport Headphones</td>\n",
       "      <td>1</td>\n",
       "      <td>99.99</td>\n",
       "      <td>04/07/19 22:30</td>\n",
       "      <td>682 Chestnut St, Boston, MA 02215</td>\n",
       "    </tr>\n",
       "    <tr>\n",
       "      <th>3</th>\n",
       "      <td>176560</td>\n",
       "      <td>Google Phone</td>\n",
       "      <td>1</td>\n",
       "      <td>600</td>\n",
       "      <td>04/12/19 14:38</td>\n",
       "      <td>669 Spruce St, Los Angeles, CA 90001</td>\n",
       "    </tr>\n",
       "    <tr>\n",
       "      <th>4</th>\n",
       "      <td>176560</td>\n",
       "      <td>Wired Headphones</td>\n",
       "      <td>1</td>\n",
       "      <td>11.99</td>\n",
       "      <td>04/12/19 14:38</td>\n",
       "      <td>669 Spruce St, Los Angeles, CA 90001</td>\n",
       "    </tr>\n",
       "  </tbody>\n",
       "</table>\n",
       "</div>"
      ],
      "text/plain": [
       "  Order ID                     Product Quantity Ordered Price Each  \\\n",
       "0   176558        USB-C Charging Cable                2      11.95   \n",
       "1      NaN                         NaN              NaN        NaN   \n",
       "2   176559  Bose SoundSport Headphones                1      99.99   \n",
       "3   176560                Google Phone                1        600   \n",
       "4   176560            Wired Headphones                1      11.99   \n",
       "\n",
       "       Order Date                      Purchase Address  \n",
       "0  04/19/19 08:46          917 1st St, Dallas, TX 75001  \n",
       "1             NaN                                   NaN  \n",
       "2  04/07/19 22:30     682 Chestnut St, Boston, MA 02215  \n",
       "3  04/12/19 14:38  669 Spruce St, Los Angeles, CA 90001  \n",
       "4  04/12/19 14:38  669 Spruce St, Los Angeles, CA 90001  "
      ]
     },
     "execution_count": 7,
     "metadata": {},
     "output_type": "execute_result"
    }
   ],
   "source": [
    "all_data.head()"
   ]
  },
  {
   "cell_type": "code",
   "execution_count": 8,
   "id": "e99e5a52",
   "metadata": {},
   "outputs": [
    {
     "data": {
      "text/plain": [
       "(186850, 6)"
      ]
     },
     "execution_count": 8,
     "metadata": {},
     "output_type": "execute_result"
    }
   ],
   "source": [
    "all_data.shape"
   ]
  },
  {
   "cell_type": "code",
   "execution_count": 9,
   "id": "712cdeb0",
   "metadata": {},
   "outputs": [
    {
     "data": {
      "text/html": [
       "<div>\n",
       "<style scoped>\n",
       "    .dataframe tbody tr th:only-of-type {\n",
       "        vertical-align: middle;\n",
       "    }\n",
       "\n",
       "    .dataframe tbody tr th {\n",
       "        vertical-align: top;\n",
       "    }\n",
       "\n",
       "    .dataframe thead th {\n",
       "        text-align: right;\n",
       "    }\n",
       "</style>\n",
       "<table border=\"1\" class=\"dataframe\">\n",
       "  <thead>\n",
       "    <tr style=\"text-align: right;\">\n",
       "      <th></th>\n",
       "      <th>Order ID</th>\n",
       "      <th>Product</th>\n",
       "      <th>Quantity Ordered</th>\n",
       "      <th>Price Each</th>\n",
       "      <th>Order Date</th>\n",
       "      <th>Purchase Address</th>\n",
       "    </tr>\n",
       "  </thead>\n",
       "  <tbody>\n",
       "    <tr>\n",
       "      <th>count</th>\n",
       "      <td>186305</td>\n",
       "      <td>186305</td>\n",
       "      <td>186305</td>\n",
       "      <td>186305</td>\n",
       "      <td>186305</td>\n",
       "      <td>186305</td>\n",
       "    </tr>\n",
       "    <tr>\n",
       "      <th>unique</th>\n",
       "      <td>178438</td>\n",
       "      <td>20</td>\n",
       "      <td>10</td>\n",
       "      <td>24</td>\n",
       "      <td>142396</td>\n",
       "      <td>140788</td>\n",
       "    </tr>\n",
       "    <tr>\n",
       "      <th>top</th>\n",
       "      <td>Order ID</td>\n",
       "      <td>USB-C Charging Cable</td>\n",
       "      <td>1</td>\n",
       "      <td>11.95</td>\n",
       "      <td>Order Date</td>\n",
       "      <td>Purchase Address</td>\n",
       "    </tr>\n",
       "    <tr>\n",
       "      <th>freq</th>\n",
       "      <td>355</td>\n",
       "      <td>21903</td>\n",
       "      <td>168552</td>\n",
       "      <td>21903</td>\n",
       "      <td>355</td>\n",
       "      <td>355</td>\n",
       "    </tr>\n",
       "  </tbody>\n",
       "</table>\n",
       "</div>"
      ],
      "text/plain": [
       "        Order ID               Product Quantity Ordered Price Each  \\\n",
       "count     186305                186305           186305     186305   \n",
       "unique    178438                    20               10         24   \n",
       "top     Order ID  USB-C Charging Cable                1      11.95   \n",
       "freq         355                 21903           168552      21903   \n",
       "\n",
       "        Order Date  Purchase Address  \n",
       "count       186305            186305  \n",
       "unique      142396            140788  \n",
       "top     Order Date  Purchase Address  \n",
       "freq           355               355  "
      ]
     },
     "execution_count": 9,
     "metadata": {},
     "output_type": "execute_result"
    }
   ],
   "source": [
    "all_data.describe()"
   ]
  },
  {
   "cell_type": "code",
   "execution_count": 10,
   "id": "1caa8033",
   "metadata": {},
   "outputs": [],
   "source": [
    "# sauvegarder l'ensemble des fichiers dans un fichier unique\n",
    "all_data.to_csv(path+'/all_sales_2019.csv', index=False)\n"
   ]
  },
  {
   "cell_type": "code",
   "execution_count": 12,
   "id": "b0285beb",
   "metadata": {},
   "outputs": [
    {
     "data": {
      "text/plain": [
       "Order ID            object\n",
       "Product             object\n",
       "Quantity Ordered    object\n",
       "Price Each          object\n",
       "Order Date          object\n",
       "Purchase Address    object\n",
       "dtype: object"
      ]
     },
     "execution_count": 12,
     "metadata": {},
     "output_type": "execute_result"
    }
   ],
   "source": [
    "#afficher les types de données\n",
    "all_data.dtypes"
   ]
  },
  {
   "cell_type": "code",
   "execution_count": 16,
   "id": "e4d59220",
   "metadata": {},
   "outputs": [
    {
     "data": {
      "text/plain": [
       "Order ID            545\n",
       "Product             545\n",
       "Quantity Ordered    545\n",
       "Price Each          545\n",
       "Order Date          545\n",
       "Purchase Address    545\n",
       "dtype: int64"
      ]
     },
     "execution_count": 16,
     "metadata": {},
     "output_type": "execute_result"
    }
   ],
   "source": [
    "#afficher les valeurs manquantes\n",
    "\n",
    "all_data.isna().sum()  # can also use isnull\n"
   ]
  },
  {
   "cell_type": "code",
   "execution_count": 21,
   "id": "6a141c3b",
   "metadata": {},
   "outputs": [],
   "source": [
    "#suprimer les valeurs manquantes\n",
    "all_data = all_data.dropna(axis=0)\n",
    "#all_data = all_data.dropna(how='all')"
   ]
  },
  {
   "cell_type": "code",
   "execution_count": 22,
   "id": "5b0d373c",
   "metadata": {},
   "outputs": [
    {
     "data": {
      "text/plain": [
       "(186305, 6)"
      ]
     },
     "execution_count": 22,
     "metadata": {},
     "output_type": "execute_result"
    }
   ],
   "source": [
    "all_data.shape"
   ]
  },
  {
   "cell_type": "code",
   "execution_count": 20,
   "id": "83a9af66",
   "metadata": {},
   "outputs": [
    {
     "name": "stdout",
     "output_type": "stream",
     "text": [
      "(186305, 6)\n",
      "(186850, 6)\n"
     ]
    }
   ],
   "source": [
    "print(data.shape)\n",
    "print(all_data.shape)"
   ]
  },
  {
   "cell_type": "code",
   "execution_count": null,
   "id": "c6dd0f22",
   "metadata": {},
   "outputs": [],
   "source": []
  },
  {
   "cell_type": "markdown",
   "id": "3a1a225f",
   "metadata": {},
   "source": [
    "# quel est le mois où on a réalisé le meilleur chiffre d'affaire"
   ]
  },
  {
   "cell_type": "code",
   "execution_count": 25,
   "id": "73007293",
   "metadata": {},
   "outputs": [
    {
     "data": {
      "text/plain": [
       "Index(['Order ID', 'Product', 'Quantity Ordered', 'Price Each', 'Order Date',\n",
       "       'Purchase Address'],\n",
       "      dtype='object')"
      ]
     },
     "execution_count": 25,
     "metadata": {},
     "output_type": "execute_result"
    }
   ],
   "source": [
    "all_data.columns"
   ]
  },
  {
   "cell_type": "code",
   "execution_count": 26,
   "id": "20759f1a",
   "metadata": {},
   "outputs": [
    {
     "data": {
      "text/plain": [
       "Index(['ID commande', 'Produit', 'Quantite commande', 'Prix unitaire',\n",
       "       'Date commande', 'Adresse achat'],\n",
       "      dtype='object')"
      ]
     },
     "execution_count": 26,
     "metadata": {},
     "output_type": "execute_result"
    }
   ],
   "source": [
    "#renommer les colonnes\n",
    "\n",
    "all_data = all_data.rename(columns={'Order ID' : 'ID commande', 'Product': 'Produit', 'Quantity Ordered' : 'Quantite commande',\n",
    "                                     'Price Each' : 'Prix unitaire', 'Order Date' : 'Date commande',\n",
    "       'Purchase Address':'Adresse achat'})\n",
    "all_data.columns"
   ]
  },
  {
   "cell_type": "code",
   "execution_count": 38,
   "id": "ae36f70b",
   "metadata": {},
   "outputs": [],
   "source": [
    "def recuperer_mois(mois):\n",
    "    return mois.split('/')[0]\n"
   ]
  },
  {
   "cell_type": "code",
   "execution_count": 35,
   "id": "6852ccad",
   "metadata": {},
   "outputs": [],
   "source": [
    "data = all_data"
   ]
  },
  {
   "cell_type": "code",
   "execution_count": 40,
   "id": "b10b33e1",
   "metadata": {},
   "outputs": [
    {
     "data": {
      "text/html": [
       "<div>\n",
       "<style scoped>\n",
       "    .dataframe tbody tr th:only-of-type {\n",
       "        vertical-align: middle;\n",
       "    }\n",
       "\n",
       "    .dataframe tbody tr th {\n",
       "        vertical-align: top;\n",
       "    }\n",
       "\n",
       "    .dataframe thead th {\n",
       "        text-align: right;\n",
       "    }\n",
       "</style>\n",
       "<table border=\"1\" class=\"dataframe\">\n",
       "  <thead>\n",
       "    <tr style=\"text-align: right;\">\n",
       "      <th></th>\n",
       "      <th>ID commande</th>\n",
       "      <th>Produit</th>\n",
       "      <th>Quantite commande</th>\n",
       "      <th>Prix unitaire</th>\n",
       "      <th>Date commande</th>\n",
       "      <th>Adresse achat</th>\n",
       "      <th>mois</th>\n",
       "    </tr>\n",
       "  </thead>\n",
       "  <tbody>\n",
       "    <tr>\n",
       "      <th>0</th>\n",
       "      <td>176558</td>\n",
       "      <td>USB-C Charging Cable</td>\n",
       "      <td>2</td>\n",
       "      <td>11.95</td>\n",
       "      <td>04/19/19 08:46</td>\n",
       "      <td>917 1st St, Dallas, TX 75001</td>\n",
       "      <td>04</td>\n",
       "    </tr>\n",
       "    <tr>\n",
       "      <th>2</th>\n",
       "      <td>176559</td>\n",
       "      <td>Bose SoundSport Headphones</td>\n",
       "      <td>1</td>\n",
       "      <td>99.99</td>\n",
       "      <td>04/07/19 22:30</td>\n",
       "      <td>682 Chestnut St, Boston, MA 02215</td>\n",
       "      <td>04</td>\n",
       "    </tr>\n",
       "    <tr>\n",
       "      <th>3</th>\n",
       "      <td>176560</td>\n",
       "      <td>Google Phone</td>\n",
       "      <td>1</td>\n",
       "      <td>600</td>\n",
       "      <td>04/12/19 14:38</td>\n",
       "      <td>669 Spruce St, Los Angeles, CA 90001</td>\n",
       "      <td>04</td>\n",
       "    </tr>\n",
       "    <tr>\n",
       "      <th>4</th>\n",
       "      <td>176560</td>\n",
       "      <td>Wired Headphones</td>\n",
       "      <td>1</td>\n",
       "      <td>11.99</td>\n",
       "      <td>04/12/19 14:38</td>\n",
       "      <td>669 Spruce St, Los Angeles, CA 90001</td>\n",
       "      <td>04</td>\n",
       "    </tr>\n",
       "    <tr>\n",
       "      <th>5</th>\n",
       "      <td>176561</td>\n",
       "      <td>Wired Headphones</td>\n",
       "      <td>1</td>\n",
       "      <td>11.99</td>\n",
       "      <td>04/30/19 09:27</td>\n",
       "      <td>333 8th St, Los Angeles, CA 90001</td>\n",
       "      <td>04</td>\n",
       "    </tr>\n",
       "    <tr>\n",
       "      <th>...</th>\n",
       "      <td>...</td>\n",
       "      <td>...</td>\n",
       "      <td>...</td>\n",
       "      <td>...</td>\n",
       "      <td>...</td>\n",
       "      <td>...</td>\n",
       "      <td>...</td>\n",
       "    </tr>\n",
       "    <tr>\n",
       "      <th>11681</th>\n",
       "      <td>259353</td>\n",
       "      <td>AAA Batteries (4-pack)</td>\n",
       "      <td>3</td>\n",
       "      <td>2.99</td>\n",
       "      <td>09/17/19 20:56</td>\n",
       "      <td>840 Highland St, Los Angeles, CA 90001</td>\n",
       "      <td>09</td>\n",
       "    </tr>\n",
       "    <tr>\n",
       "      <th>11682</th>\n",
       "      <td>259354</td>\n",
       "      <td>iPhone</td>\n",
       "      <td>1</td>\n",
       "      <td>700</td>\n",
       "      <td>09/01/19 16:00</td>\n",
       "      <td>216 Dogwood St, San Francisco, CA 94016</td>\n",
       "      <td>09</td>\n",
       "    </tr>\n",
       "    <tr>\n",
       "      <th>11683</th>\n",
       "      <td>259355</td>\n",
       "      <td>iPhone</td>\n",
       "      <td>1</td>\n",
       "      <td>700</td>\n",
       "      <td>09/23/19 07:39</td>\n",
       "      <td>220 12th St, San Francisco, CA 94016</td>\n",
       "      <td>09</td>\n",
       "    </tr>\n",
       "    <tr>\n",
       "      <th>11684</th>\n",
       "      <td>259356</td>\n",
       "      <td>34in Ultrawide Monitor</td>\n",
       "      <td>1</td>\n",
       "      <td>379.99</td>\n",
       "      <td>09/19/19 17:30</td>\n",
       "      <td>511 Forest St, San Francisco, CA 94016</td>\n",
       "      <td>09</td>\n",
       "    </tr>\n",
       "    <tr>\n",
       "      <th>11685</th>\n",
       "      <td>259357</td>\n",
       "      <td>USB-C Charging Cable</td>\n",
       "      <td>1</td>\n",
       "      <td>11.95</td>\n",
       "      <td>09/30/19 00:18</td>\n",
       "      <td>250 Meadow St, San Francisco, CA 94016</td>\n",
       "      <td>09</td>\n",
       "    </tr>\n",
       "  </tbody>\n",
       "</table>\n",
       "<p>186305 rows × 7 columns</p>\n",
       "</div>"
      ],
      "text/plain": [
       "      ID commande                     Produit Quantite commande Prix unitaire  \\\n",
       "0          176558        USB-C Charging Cable                 2         11.95   \n",
       "2          176559  Bose SoundSport Headphones                 1         99.99   \n",
       "3          176560                Google Phone                 1           600   \n",
       "4          176560            Wired Headphones                 1         11.99   \n",
       "5          176561            Wired Headphones                 1         11.99   \n",
       "...           ...                         ...               ...           ...   \n",
       "11681      259353      AAA Batteries (4-pack)                 3          2.99   \n",
       "11682      259354                      iPhone                 1           700   \n",
       "11683      259355                      iPhone                 1           700   \n",
       "11684      259356      34in Ultrawide Monitor                 1        379.99   \n",
       "11685      259357        USB-C Charging Cable                 1         11.95   \n",
       "\n",
       "        Date commande                            Adresse achat mois  \n",
       "0      04/19/19 08:46             917 1st St, Dallas, TX 75001   04  \n",
       "2      04/07/19 22:30        682 Chestnut St, Boston, MA 02215   04  \n",
       "3      04/12/19 14:38     669 Spruce St, Los Angeles, CA 90001   04  \n",
       "4      04/12/19 14:38     669 Spruce St, Los Angeles, CA 90001   04  \n",
       "5      04/30/19 09:27        333 8th St, Los Angeles, CA 90001   04  \n",
       "...               ...                                      ...  ...  \n",
       "11681  09/17/19 20:56   840 Highland St, Los Angeles, CA 90001   09  \n",
       "11682  09/01/19 16:00  216 Dogwood St, San Francisco, CA 94016   09  \n",
       "11683  09/23/19 07:39     220 12th St, San Francisco, CA 94016   09  \n",
       "11684  09/19/19 17:30   511 Forest St, San Francisco, CA 94016   09  \n",
       "11685  09/30/19 00:18   250 Meadow St, San Francisco, CA 94016   09  \n",
       "\n",
       "[186305 rows x 7 columns]"
      ]
     },
     "execution_count": 40,
     "metadata": {},
     "output_type": "execute_result"
    }
   ],
   "source": [
    "all_data['mois'] = all_data['Date commande'].apply(recuperer_mois)\n",
    "all_data"
   ]
  },
  {
   "cell_type": "code",
   "execution_count": 41,
   "id": "9123cf9c",
   "metadata": {},
   "outputs": [
    {
     "data": {
      "text/plain": [
       "array(['04', '05', 'Order Date', '08', '09', '12', '01', '02', '03', '07',\n",
       "       '06', '11', '10'], dtype=object)"
      ]
     },
     "execution_count": 41,
     "metadata": {},
     "output_type": "execute_result"
    }
   ],
   "source": [
    "all_data['mois'].unique()"
   ]
  },
  {
   "cell_type": "code",
   "execution_count": 49,
   "id": "191f8797",
   "metadata": {},
   "outputs": [
    {
     "data": {
      "text/plain": [
       "12            24984\n",
       "10            20282\n",
       "04            18279\n",
       "11            17573\n",
       "05            16566\n",
       "03            15153\n",
       "07            14293\n",
       "06            13554\n",
       "02            11975\n",
       "08            11961\n",
       "09            11621\n",
       "01             9709\n",
       "Order Date      355\n",
       "Name: mois, dtype: int64"
      ]
     },
     "execution_count": 49,
     "metadata": {},
     "output_type": "execute_result"
    }
   ],
   "source": [
    "import numpy as np\n",
    "all_data['mois'].value_counts()"
   ]
  },
  {
   "cell_type": "code",
   "execution_count": 52,
   "id": "26e8137b",
   "metadata": {},
   "outputs": [
    {
     "data": {
      "text/plain": [
       "array(['04', '05', '08', '09', '12', '01', '02', '03', '07', '06', '11',\n",
       "       '10'], dtype=object)"
      ]
     },
     "execution_count": 52,
     "metadata": {},
     "output_type": "execute_result"
    }
   ],
   "source": [
    "all_data = all_data[all_data['mois'] != 'Order Date']\n",
    "all_data['mois'].unique()"
   ]
  },
  {
   "cell_type": "code",
   "execution_count": 53,
   "id": "47a3122c",
   "metadata": {},
   "outputs": [
    {
     "data": {
      "text/plain": [
       "ID commande          object\n",
       "Produit              object\n",
       "Quantite commande    object\n",
       "Prix unitaire        object\n",
       "Date commande        object\n",
       "Adresse achat        object\n",
       "mois                  int32\n",
       "dtype: object"
      ]
     },
     "execution_count": 53,
     "metadata": {},
     "output_type": "execute_result"
    }
   ],
   "source": [
    "#changer le type d'une variable\n",
    "all_data['mois'] = all_data['mois'].astype(int)\n",
    "all_data.dtypes"
   ]
  },
  {
   "cell_type": "code",
   "execution_count": 57,
   "id": "0fe24735",
   "metadata": {},
   "outputs": [
    {
     "data": {
      "text/html": [
       "<div>\n",
       "<style scoped>\n",
       "    .dataframe tbody tr th:only-of-type {\n",
       "        vertical-align: middle;\n",
       "    }\n",
       "\n",
       "    .dataframe tbody tr th {\n",
       "        vertical-align: top;\n",
       "    }\n",
       "\n",
       "    .dataframe thead th {\n",
       "        text-align: right;\n",
       "    }\n",
       "</style>\n",
       "<table border=\"1\" class=\"dataframe\">\n",
       "  <thead>\n",
       "    <tr style=\"text-align: right;\">\n",
       "      <th></th>\n",
       "      <th>ID commande</th>\n",
       "      <th>Produit</th>\n",
       "      <th>Quantite commande</th>\n",
       "      <th>Prix unitaire</th>\n",
       "      <th>Date commande</th>\n",
       "      <th>Adresse achat</th>\n",
       "      <th>mois</th>\n",
       "    </tr>\n",
       "  </thead>\n",
       "  <tbody>\n",
       "    <tr>\n",
       "      <th>0</th>\n",
       "      <td>176558</td>\n",
       "      <td>USB-C Charging Cable</td>\n",
       "      <td>2</td>\n",
       "      <td>11.95</td>\n",
       "      <td>04/19/19 08:46</td>\n",
       "      <td>917 1st St, Dallas, TX 75001</td>\n",
       "      <td>4</td>\n",
       "    </tr>\n",
       "    <tr>\n",
       "      <th>2</th>\n",
       "      <td>176559</td>\n",
       "      <td>Bose SoundSport Headphones</td>\n",
       "      <td>1</td>\n",
       "      <td>99.99</td>\n",
       "      <td>04/07/19 22:30</td>\n",
       "      <td>682 Chestnut St, Boston, MA 02215</td>\n",
       "      <td>4</td>\n",
       "    </tr>\n",
       "    <tr>\n",
       "      <th>3</th>\n",
       "      <td>176560</td>\n",
       "      <td>Google Phone</td>\n",
       "      <td>1</td>\n",
       "      <td>600</td>\n",
       "      <td>04/12/19 14:38</td>\n",
       "      <td>669 Spruce St, Los Angeles, CA 90001</td>\n",
       "      <td>4</td>\n",
       "    </tr>\n",
       "    <tr>\n",
       "      <th>4</th>\n",
       "      <td>176560</td>\n",
       "      <td>Wired Headphones</td>\n",
       "      <td>1</td>\n",
       "      <td>11.99</td>\n",
       "      <td>04/12/19 14:38</td>\n",
       "      <td>669 Spruce St, Los Angeles, CA 90001</td>\n",
       "      <td>4</td>\n",
       "    </tr>\n",
       "    <tr>\n",
       "      <th>5</th>\n",
       "      <td>176561</td>\n",
       "      <td>Wired Headphones</td>\n",
       "      <td>1</td>\n",
       "      <td>11.99</td>\n",
       "      <td>04/30/19 09:27</td>\n",
       "      <td>333 8th St, Los Angeles, CA 90001</td>\n",
       "      <td>4</td>\n",
       "    </tr>\n",
       "  </tbody>\n",
       "</table>\n",
       "</div>"
      ],
      "text/plain": [
       "  ID commande                     Produit  Quantite commande Prix unitaire  \\\n",
       "0      176558        USB-C Charging Cable                  2         11.95   \n",
       "2      176559  Bose SoundSport Headphones                  1         99.99   \n",
       "3      176560                Google Phone                  1           600   \n",
       "4      176560            Wired Headphones                  1         11.99   \n",
       "5      176561            Wired Headphones                  1         11.99   \n",
       "\n",
       "    Date commande                         Adresse achat  mois  \n",
       "0  04/19/19 08:46          917 1st St, Dallas, TX 75001     4  \n",
       "2  04/07/19 22:30     682 Chestnut St, Boston, MA 02215     4  \n",
       "3  04/12/19 14:38  669 Spruce St, Los Angeles, CA 90001     4  \n",
       "4  04/12/19 14:38  669 Spruce St, Los Angeles, CA 90001     4  \n",
       "5  04/30/19 09:27     333 8th St, Los Angeles, CA 90001     4  "
      ]
     },
     "execution_count": 57,
     "metadata": {},
     "output_type": "execute_result"
    }
   ],
   "source": [
    "all_data.head()"
   ]
  },
  {
   "cell_type": "code",
   "execution_count": 58,
   "id": "db0f8beb",
   "metadata": {},
   "outputs": [
    {
     "data": {
      "text/html": [
       "<div>\n",
       "<style scoped>\n",
       "    .dataframe tbody tr th:only-of-type {\n",
       "        vertical-align: middle;\n",
       "    }\n",
       "\n",
       "    .dataframe tbody tr th {\n",
       "        vertical-align: top;\n",
       "    }\n",
       "\n",
       "    .dataframe thead th {\n",
       "        text-align: right;\n",
       "    }\n",
       "</style>\n",
       "<table border=\"1\" class=\"dataframe\">\n",
       "  <thead>\n",
       "    <tr style=\"text-align: right;\">\n",
       "      <th></th>\n",
       "      <th>ID commande</th>\n",
       "      <th>Produit</th>\n",
       "      <th>Quantite commande</th>\n",
       "      <th>Prix unitaire</th>\n",
       "      <th>Date commande</th>\n",
       "      <th>Adresse achat</th>\n",
       "      <th>mois</th>\n",
       "      <th>Montant commande</th>\n",
       "    </tr>\n",
       "  </thead>\n",
       "  <tbody>\n",
       "    <tr>\n",
       "      <th>0</th>\n",
       "      <td>176558</td>\n",
       "      <td>USB-C Charging Cable</td>\n",
       "      <td>2</td>\n",
       "      <td>11.95</td>\n",
       "      <td>04/19/19 08:46</td>\n",
       "      <td>917 1st St, Dallas, TX 75001</td>\n",
       "      <td>4</td>\n",
       "      <td>23.90</td>\n",
       "    </tr>\n",
       "    <tr>\n",
       "      <th>2</th>\n",
       "      <td>176559</td>\n",
       "      <td>Bose SoundSport Headphones</td>\n",
       "      <td>1</td>\n",
       "      <td>99.99</td>\n",
       "      <td>04/07/19 22:30</td>\n",
       "      <td>682 Chestnut St, Boston, MA 02215</td>\n",
       "      <td>4</td>\n",
       "      <td>99.99</td>\n",
       "    </tr>\n",
       "    <tr>\n",
       "      <th>3</th>\n",
       "      <td>176560</td>\n",
       "      <td>Google Phone</td>\n",
       "      <td>1</td>\n",
       "      <td>600.00</td>\n",
       "      <td>04/12/19 14:38</td>\n",
       "      <td>669 Spruce St, Los Angeles, CA 90001</td>\n",
       "      <td>4</td>\n",
       "      <td>600.00</td>\n",
       "    </tr>\n",
       "    <tr>\n",
       "      <th>4</th>\n",
       "      <td>176560</td>\n",
       "      <td>Wired Headphones</td>\n",
       "      <td>1</td>\n",
       "      <td>11.99</td>\n",
       "      <td>04/12/19 14:38</td>\n",
       "      <td>669 Spruce St, Los Angeles, CA 90001</td>\n",
       "      <td>4</td>\n",
       "      <td>11.99</td>\n",
       "    </tr>\n",
       "    <tr>\n",
       "      <th>5</th>\n",
       "      <td>176561</td>\n",
       "      <td>Wired Headphones</td>\n",
       "      <td>1</td>\n",
       "      <td>11.99</td>\n",
       "      <td>04/30/19 09:27</td>\n",
       "      <td>333 8th St, Los Angeles, CA 90001</td>\n",
       "      <td>4</td>\n",
       "      <td>11.99</td>\n",
       "    </tr>\n",
       "  </tbody>\n",
       "</table>\n",
       "</div>"
      ],
      "text/plain": [
       "  ID commande                     Produit  Quantite commande  Prix unitaire  \\\n",
       "0      176558        USB-C Charging Cable                  2          11.95   \n",
       "2      176559  Bose SoundSport Headphones                  1          99.99   \n",
       "3      176560                Google Phone                  1         600.00   \n",
       "4      176560            Wired Headphones                  1          11.99   \n",
       "5      176561            Wired Headphones                  1          11.99   \n",
       "\n",
       "    Date commande                         Adresse achat  mois  \\\n",
       "0  04/19/19 08:46          917 1st St, Dallas, TX 75001     4   \n",
       "2  04/07/19 22:30     682 Chestnut St, Boston, MA 02215     4   \n",
       "3  04/12/19 14:38  669 Spruce St, Los Angeles, CA 90001     4   \n",
       "4  04/12/19 14:38  669 Spruce St, Los Angeles, CA 90001     4   \n",
       "5  04/30/19 09:27     333 8th St, Los Angeles, CA 90001     4   \n",
       "\n",
       "   Montant commande  \n",
       "0             23.90  \n",
       "2             99.99  \n",
       "3            600.00  \n",
       "4             11.99  \n",
       "5             11.99  "
      ]
     },
     "execution_count": 58,
     "metadata": {},
     "output_type": "execute_result"
    }
   ],
   "source": [
    "all_data['Quantite commande'] = all_data['Quantite commande'].astype(int)\n",
    "all_data['Prix unitaire'] = all_data['Prix unitaire'].astype(float)\n",
    "all_data['Montant commande'] = all_data['Quantite commande']*all_data['Prix unitaire']\n",
    "all_data.head()"
   ]
  },
  {
   "cell_type": "code",
   "execution_count": 83,
   "id": "937f1cba",
   "metadata": {},
   "outputs": [
    {
     "data": {
      "text/plain": [
       "mois\n",
       "1     1822256.73\n",
       "2     2202022.42\n",
       "3     2807100.38\n",
       "4     3390670.24\n",
       "5     3152606.75\n",
       "6     2577802.26\n",
       "7     2647775.76\n",
       "8     2244467.88\n",
       "9     2097560.13\n",
       "10    3736726.88\n",
       "11    3199603.20\n",
       "12    4613443.34\n",
       "Name: Montant commande, dtype: float64"
      ]
     },
     "execution_count": 83,
     "metadata": {},
     "output_type": "execute_result"
    }
   ],
   "source": [
    " all_data.groupby(['mois'])['Montant commande'].sum()"
   ]
  },
  {
   "cell_type": "code",
   "execution_count": 80,
   "id": "ad338503",
   "metadata": {},
   "outputs": [],
   "source": [
    "sum_ventes_mois =  all_data.groupby(['mois'])['Montant commande'].sum()"
   ]
  },
  {
   "cell_type": "code",
   "execution_count": 102,
   "id": "7332f9ad",
   "metadata": {},
   "outputs": [
    {
     "data": {
      "text/plain": [
       "Text(0.5, 1.0, 'Montant des ventes par mois')"
      ]
     },
     "execution_count": 102,
     "metadata": {},
     "output_type": "execute_result"
    },
    {
     "data": {
      "image/png": "[encoded data removed]",
      "text/plain": [
       "<Figure size 640x480 with 1 Axes>"
      ]
     },
     "metadata": {},
     "output_type": "display_data"
    }
   ],
   "source": [
    "months = range(1, 13)\n",
    "plt.bar(months, sum_ventes_mois)\n",
    "plt.xlabel('Mois')\n",
    "plt.xticks(months)  #graduer l'axe de 1 en 1\n",
    "plt.ylabel('Montant Ventes ($)')\n",
    "plt.title('Montant des ventes par mois')"
   ]
  },
  {
   "cell_type": "code",
   "execution_count": 93,
   "id": "f5b6d5fb",
   "metadata": {},
   "outputs": [
    {
     "data": {
      "image/png": "[encoded data removed]",
      "text/plain": [
       "<Figure size 640x480 with 1 Axes>"
      ]
     },
     "metadata": {},
     "output_type": "display_data"
    }
   ],
   "source": [
    "plt.figure()\n",
    "plt.plot(months, sum_ventes_mois, c='green', ls='-', lw=2)\n",
    "plt.show()"
   ]
  },
  {
   "cell_type": "markdown",
   "id": "fd325db1",
   "metadata": {},
   "source": [
    "# quel est ville qui réalise le plus de commande"
   ]
  },
  {
   "cell_type": "code",
   "execution_count": 103,
   "id": "88959288",
   "metadata": {},
   "outputs": [
    {
     "data": {
      "text/html": [
       "<div>\n",
       "<style scoped>\n",
       "    .dataframe tbody tr th:only-of-type {\n",
       "        vertical-align: middle;\n",
       "    }\n",
       "\n",
       "    .dataframe tbody tr th {\n",
       "        vertical-align: top;\n",
       "    }\n",
       "\n",
       "    .dataframe thead th {\n",
       "        text-align: right;\n",
       "    }\n",
       "</style>\n",
       "<table border=\"1\" class=\"dataframe\">\n",
       "  <thead>\n",
       "    <tr style=\"text-align: right;\">\n",
       "      <th></th>\n",
       "      <th>ID commande</th>\n",
       "      <th>Produit</th>\n",
       "      <th>Quantite commande</th>\n",
       "      <th>Prix unitaire</th>\n",
       "      <th>Date commande</th>\n",
       "      <th>Adresse achat</th>\n",
       "      <th>mois</th>\n",
       "      <th>Montant commande</th>\n",
       "    </tr>\n",
       "  </thead>\n",
       "  <tbody>\n",
       "    <tr>\n",
       "      <th>0</th>\n",
       "      <td>176558</td>\n",
       "      <td>USB-C Charging Cable</td>\n",
       "      <td>2</td>\n",
       "      <td>11.95</td>\n",
       "      <td>04/19/19 08:46</td>\n",
       "      <td>917 1st St, Dallas, TX 75001</td>\n",
       "      <td>4</td>\n",
       "      <td>23.90</td>\n",
       "    </tr>\n",
       "    <tr>\n",
       "      <th>2</th>\n",
       "      <td>176559</td>\n",
       "      <td>Bose SoundSport Headphones</td>\n",
       "      <td>1</td>\n",
       "      <td>99.99</td>\n",
       "      <td>04/07/19 22:30</td>\n",
       "      <td>682 Chestnut St, Boston, MA 02215</td>\n",
       "      <td>4</td>\n",
       "      <td>99.99</td>\n",
       "    </tr>\n",
       "    <tr>\n",
       "      <th>3</th>\n",
       "      <td>176560</td>\n",
       "      <td>Google Phone</td>\n",
       "      <td>1</td>\n",
       "      <td>600.00</td>\n",
       "      <td>04/12/19 14:38</td>\n",
       "      <td>669 Spruce St, Los Angeles, CA 90001</td>\n",
       "      <td>4</td>\n",
       "      <td>600.00</td>\n",
       "    </tr>\n",
       "    <tr>\n",
       "      <th>4</th>\n",
       "      <td>176560</td>\n",
       "      <td>Wired Headphones</td>\n",
       "      <td>1</td>\n",
       "      <td>11.99</td>\n",
       "      <td>04/12/19 14:38</td>\n",
       "      <td>669 Spruce St, Los Angeles, CA 90001</td>\n",
       "      <td>4</td>\n",
       "      <td>11.99</td>\n",
       "    </tr>\n",
       "    <tr>\n",
       "      <th>5</th>\n",
       "      <td>176561</td>\n",
       "      <td>Wired Headphones</td>\n",
       "      <td>1</td>\n",
       "      <td>11.99</td>\n",
       "      <td>04/30/19 09:27</td>\n",
       "      <td>333 8th St, Los Angeles, CA 90001</td>\n",
       "      <td>4</td>\n",
       "      <td>11.99</td>\n",
       "    </tr>\n",
       "  </tbody>\n",
       "</table>\n",
       "</div>"
      ],
      "text/plain": [
       "  ID commande                     Produit  Quantite commande  Prix unitaire  \\\n",
       "0      176558        USB-C Charging Cable                  2          11.95   \n",
       "2      176559  Bose SoundSport Headphones                  1          99.99   \n",
       "3      176560                Google Phone                  1         600.00   \n",
       "4      176560            Wired Headphones                  1          11.99   \n",
       "5      176561            Wired Headphones                  1          11.99   \n",
       "\n",
       "    Date commande                         Adresse achat  mois  \\\n",
       "0  04/19/19 08:46          917 1st St, Dallas, TX 75001     4   \n",
       "2  04/07/19 22:30     682 Chestnut St, Boston, MA 02215     4   \n",
       "3  04/12/19 14:38  669 Spruce St, Los Angeles, CA 90001     4   \n",
       "4  04/12/19 14:38  669 Spruce St, Los Angeles, CA 90001     4   \n",
       "5  04/30/19 09:27     333 8th St, Los Angeles, CA 90001     4   \n",
       "\n",
       "   Montant commande  \n",
       "0             23.90  \n",
       "2             99.99  \n",
       "3            600.00  \n",
       "4             11.99  \n",
       "5             11.99  "
      ]
     },
     "execution_count": 103,
     "metadata": {},
     "output_type": "execute_result"
    }
   ],
   "source": [
    "all_data.head()"
   ]
  },
  {
   "cell_type": "code",
   "execution_count": 105,
   "id": "2cd45396",
   "metadata": {},
   "outputs": [
    {
     "data": {
      "text/plain": [
       "' Dallas'"
      ]
     },
     "execution_count": 105,
     "metadata": {},
     "output_type": "execute_result"
    }
   ],
   "source": [
    "def recuperer_ville(adresse):\n",
    "    return adresse.split(',')[1]\n",
    "recuperer_ville('917 1st St, Dallas, TX 75001')"
   ]
  },
  {
   "cell_type": "code",
   "execution_count": 107,
   "id": "c7bdecdc",
   "metadata": {},
   "outputs": [
    {
     "data": {
      "text/html": [
       "<div>\n",
       "<style scoped>\n",
       "    .dataframe tbody tr th:only-of-type {\n",
       "        vertical-align: middle;\n",
       "    }\n",
       "\n",
       "    .dataframe tbody tr th {\n",
       "        vertical-align: top;\n",
       "    }\n",
       "\n",
       "    .dataframe thead th {\n",
       "        text-align: right;\n",
       "    }\n",
       "</style>\n",
       "<table border=\"1\" class=\"dataframe\">\n",
       "  <thead>\n",
       "    <tr style=\"text-align: right;\">\n",
       "      <th></th>\n",
       "      <th>ID commande</th>\n",
       "      <th>Produit</th>\n",
       "      <th>Quantite commande</th>\n",
       "      <th>Prix unitaire</th>\n",
       "      <th>Date commande</th>\n",
       "      <th>Adresse achat</th>\n",
       "      <th>mois</th>\n",
       "      <th>Montant commande</th>\n",
       "      <th>Ville</th>\n",
       "    </tr>\n",
       "  </thead>\n",
       "  <tbody>\n",
       "    <tr>\n",
       "      <th>0</th>\n",
       "      <td>176558</td>\n",
       "      <td>USB-C Charging Cable</td>\n",
       "      <td>2</td>\n",
       "      <td>11.95</td>\n",
       "      <td>04/19/19 08:46</td>\n",
       "      <td>917 1st St, Dallas, TX 75001</td>\n",
       "      <td>4</td>\n",
       "      <td>23.90</td>\n",
       "      <td>Dallas</td>\n",
       "    </tr>\n",
       "    <tr>\n",
       "      <th>2</th>\n",
       "      <td>176559</td>\n",
       "      <td>Bose SoundSport Headphones</td>\n",
       "      <td>1</td>\n",
       "      <td>99.99</td>\n",
       "      <td>04/07/19 22:30</td>\n",
       "      <td>682 Chestnut St, Boston, MA 02215</td>\n",
       "      <td>4</td>\n",
       "      <td>99.99</td>\n",
       "      <td>Boston</td>\n",
       "    </tr>\n",
       "    <tr>\n",
       "      <th>3</th>\n",
       "      <td>176560</td>\n",
       "      <td>Google Phone</td>\n",
       "      <td>1</td>\n",
       "      <td>600.00</td>\n",
       "      <td>04/12/19 14:38</td>\n",
       "      <td>669 Spruce St, Los Angeles, CA 90001</td>\n",
       "      <td>4</td>\n",
       "      <td>600.00</td>\n",
       "      <td>Los Angeles</td>\n",
       "    </tr>\n",
       "    <tr>\n",
       "      <th>4</th>\n",
       "      <td>176560</td>\n",
       "      <td>Wired Headphones</td>\n",
       "      <td>1</td>\n",
       "      <td>11.99</td>\n",
       "      <td>04/12/19 14:38</td>\n",
       "      <td>669 Spruce St, Los Angeles, CA 90001</td>\n",
       "      <td>4</td>\n",
       "      <td>11.99</td>\n",
       "      <td>Los Angeles</td>\n",
       "    </tr>\n",
       "    <tr>\n",
       "      <th>5</th>\n",
       "      <td>176561</td>\n",
       "      <td>Wired Headphones</td>\n",
       "      <td>1</td>\n",
       "      <td>11.99</td>\n",
       "      <td>04/30/19 09:27</td>\n",
       "      <td>333 8th St, Los Angeles, CA 90001</td>\n",
       "      <td>4</td>\n",
       "      <td>11.99</td>\n",
       "      <td>Los Angeles</td>\n",
       "    </tr>\n",
       "  </tbody>\n",
       "</table>\n",
       "</div>"
      ],
      "text/plain": [
       "  ID commande                     Produit  Quantite commande  Prix unitaire  \\\n",
       "0      176558        USB-C Charging Cable                  2          11.95   \n",
       "2      176559  Bose SoundSport Headphones                  1          99.99   \n",
       "3      176560                Google Phone                  1         600.00   \n",
       "4      176560            Wired Headphones                  1          11.99   \n",
       "5      176561            Wired Headphones                  1          11.99   \n",
       "\n",
       "    Date commande                         Adresse achat  mois  \\\n",
       "0  04/19/19 08:46          917 1st St, Dallas, TX 75001     4   \n",
       "2  04/07/19 22:30     682 Chestnut St, Boston, MA 02215     4   \n",
       "3  04/12/19 14:38  669 Spruce St, Los Angeles, CA 90001     4   \n",
       "4  04/12/19 14:38  669 Spruce St, Los Angeles, CA 90001     4   \n",
       "5  04/30/19 09:27     333 8th St, Los Angeles, CA 90001     4   \n",
       "\n",
       "   Montant commande         Ville  \n",
       "0             23.90        Dallas  \n",
       "2             99.99        Boston  \n",
       "3            600.00   Los Angeles  \n",
       "4             11.99   Los Angeles  \n",
       "5             11.99   Los Angeles  "
      ]
     },
     "execution_count": 107,
     "metadata": {},
     "output_type": "execute_result"
    }
   ],
   "source": [
    "all_data['Ville'] = all_data['Adresse achat'].apply(recuperer_ville)\n",
    "all_data.head()"
   ]
  },
  {
   "cell_type": "code",
   "execution_count": 110,
   "id": "932d0887",
   "metadata": {
    "scrolled": true
   },
   "outputs": [
    {
     "data": {
      "text/plain": [
       "Ville\n",
       " Atlanta          2795498.58\n",
       " Austin           1819581.75\n",
       " Boston           3661642.01\n",
       " Dallas           2767975.40\n",
       " Los Angeles      5452570.80\n",
       " New York City    4664317.43\n",
       " Portland         2320490.61\n",
       " San Francisco    8262203.91\n",
       " Seattle          2747755.48\n",
       "Name: Montant commande, dtype: float64"
      ]
     },
     "execution_count": 110,
     "metadata": {},
     "output_type": "execute_result"
    }
   ],
   "source": [
    "all_data.groupby(['Ville'])['Montant commande'].sum()"
   ]
  },
  {
   "cell_type": "code",
   "execution_count": 130,
   "id": "76067326",
   "metadata": {
    "scrolled": true
   },
   "outputs": [
    {
     "data": {
      "text/plain": [
       "[Ville\n",
       "  Atlanta          14881\n",
       "  Austin            9905\n",
       "  Boston           19934\n",
       "  Dallas           14820\n",
       "  Los Angeles      29605\n",
       "  New York City    24876\n",
       "  Portland         12465\n",
       "  San Francisco    44732\n",
       "  Seattle          14732\n",
       " Name: Ville, dtype: int64]"
      ]
     },
     "execution_count": 130,
     "metadata": {},
     "output_type": "execute_result"
    }
   ],
   "source": [
    "vente_ville = all_data.groupby(['Ville'])['Ville'].count()\n",
    "vente_ville"
   ]
  },
  {
   "cell_type": "code",
   "execution_count": 132,
   "id": "fffaf9de",
   "metadata": {},
   "outputs": [
    {
     "data": {
      "text/plain": [
       "Index([' Atlanta', ' Austin', ' Boston', ' Dallas', ' Los Angeles',\n",
       "       ' New York City', ' Portland', ' San Francisco', ' Seattle'],\n",
       "      dtype='object', name='Ville')"
      ]
     },
     "execution_count": 132,
     "metadata": {},
     "output_type": "execute_result"
    }
   ],
   "source": [
    "ville = all_data.groupby(['Ville'])['Ville'].count().index\n",
    "ville"
   ]
  },
  {
   "cell_type": "code",
   "execution_count": 139,
   "id": "3a14a22c",
   "metadata": {},
   "outputs": [],
   "source": [
    "nbre_vente_ville = all_data.groupby(['Ville'])['Ville'].count().values\n"
   ]
  },
  {
   "cell_type": "code",
   "execution_count": 140,
   "id": "0e545e25",
   "metadata": {},
   "outputs": [
    {
     "data": {
      "text/plain": [
       "dtype('int64')"
      ]
     },
     "execution_count": 140,
     "metadata": {},
     "output_type": "execute_result"
    }
   ],
   "source": [
    "nbre_vente_ville.dtype"
   ]
  },
  {
   "cell_type": "code",
   "execution_count": 148,
   "id": "71ff1fa1",
   "metadata": {},
   "outputs": [
    {
     "data": {
      "image/png": "[encoded data removed]",
      "text/plain": [
       "<Figure size 640x480 with 1 Axes>"
      ]
     },
     "metadata": {},
     "output_type": "display_data"
    }
   ],
   "source": [
    "plt.bar(ville, nbre_vente_ville)\n",
    "plt.xticks(rotation = 'vertical')\n",
    "plt.xlabel('Ville')\n",
    "plt.ylabel('Nombre de commande')\n",
    "plt.title('Nombre de vente par ville')\n",
    "plt.show()"
   ]
  },
  {
   "cell_type": "markdown",
   "id": "7e77f208",
   "metadata": {},
   "source": [
    "# En quel moment mener une campagne publicitaire pour avoir le plus de vente"
   ]
  },
  {
   "cell_type": "code",
   "execution_count": null,
   "id": "4d91a70b",
   "metadata": {},
   "outputs": [],
   "source": [
    "##il s'agit de déterminer les heures de grande affluence dans les magasins"
   ]
  },
  {
   "cell_type": "code",
   "execution_count": 149,
   "id": "0cbb2023",
   "metadata": {},
   "outputs": [
    {
     "data": {
      "text/html": [
       "<div>\n",
       "<style scoped>\n",
       "    .dataframe tbody tr th:only-of-type {\n",
       "        vertical-align: middle;\n",
       "    }\n",
       "\n",
       "    .dataframe tbody tr th {\n",
       "        vertical-align: top;\n",
       "    }\n",
       "\n",
       "    .dataframe thead th {\n",
       "        text-align: right;\n",
       "    }\n",
       "</style>\n",
       "<table border=\"1\" class=\"dataframe\">\n",
       "  <thead>\n",
       "    <tr style=\"text-align: right;\">\n",
       "      <th></th>\n",
       "      <th>ID commande</th>\n",
       "      <th>Produit</th>\n",
       "      <th>Quantite commande</th>\n",
       "      <th>Prix unitaire</th>\n",
       "      <th>Date commande</th>\n",
       "      <th>Adresse achat</th>\n",
       "      <th>mois</th>\n",
       "      <th>Montant commande</th>\n",
       "      <th>Ville</th>\n",
       "    </tr>\n",
       "  </thead>\n",
       "  <tbody>\n",
       "    <tr>\n",
       "      <th>0</th>\n",
       "      <td>176558</td>\n",
       "      <td>USB-C Charging Cable</td>\n",
       "      <td>2</td>\n",
       "      <td>11.95</td>\n",
       "      <td>04/19/19 08:46</td>\n",
       "      <td>917 1st St, Dallas, TX 75001</td>\n",
       "      <td>4</td>\n",
       "      <td>23.90</td>\n",
       "      <td>Dallas</td>\n",
       "    </tr>\n",
       "    <tr>\n",
       "      <th>2</th>\n",
       "      <td>176559</td>\n",
       "      <td>Bose SoundSport Headphones</td>\n",
       "      <td>1</td>\n",
       "      <td>99.99</td>\n",
       "      <td>04/07/19 22:30</td>\n",
       "      <td>682 Chestnut St, Boston, MA 02215</td>\n",
       "      <td>4</td>\n",
       "      <td>99.99</td>\n",
       "      <td>Boston</td>\n",
       "    </tr>\n",
       "    <tr>\n",
       "      <th>3</th>\n",
       "      <td>176560</td>\n",
       "      <td>Google Phone</td>\n",
       "      <td>1</td>\n",
       "      <td>600.00</td>\n",
       "      <td>04/12/19 14:38</td>\n",
       "      <td>669 Spruce St, Los Angeles, CA 90001</td>\n",
       "      <td>4</td>\n",
       "      <td>600.00</td>\n",
       "      <td>Los Angeles</td>\n",
       "    </tr>\n",
       "    <tr>\n",
       "      <th>4</th>\n",
       "      <td>176560</td>\n",
       "      <td>Wired Headphones</td>\n",
       "      <td>1</td>\n",
       "      <td>11.99</td>\n",
       "      <td>04/12/19 14:38</td>\n",
       "      <td>669 Spruce St, Los Angeles, CA 90001</td>\n",
       "      <td>4</td>\n",
       "      <td>11.99</td>\n",
       "      <td>Los Angeles</td>\n",
       "    </tr>\n",
       "    <tr>\n",
       "      <th>5</th>\n",
       "      <td>176561</td>\n",
       "      <td>Wired Headphones</td>\n",
       "      <td>1</td>\n",
       "      <td>11.99</td>\n",
       "      <td>04/30/19 09:27</td>\n",
       "      <td>333 8th St, Los Angeles, CA 90001</td>\n",
       "      <td>4</td>\n",
       "      <td>11.99</td>\n",
       "      <td>Los Angeles</td>\n",
       "    </tr>\n",
       "  </tbody>\n",
       "</table>\n",
       "</div>"
      ],
      "text/plain": [
       "  ID commande                     Produit  Quantite commande  Prix unitaire  \\\n",
       "0      176558        USB-C Charging Cable                  2          11.95   \n",
       "2      176559  Bose SoundSport Headphones                  1          99.99   \n",
       "3      176560                Google Phone                  1         600.00   \n",
       "4      176560            Wired Headphones                  1          11.99   \n",
       "5      176561            Wired Headphones                  1          11.99   \n",
       "\n",
       "    Date commande                         Adresse achat  mois  \\\n",
       "0  04/19/19 08:46          917 1st St, Dallas, TX 75001     4   \n",
       "2  04/07/19 22:30     682 Chestnut St, Boston, MA 02215     4   \n",
       "3  04/12/19 14:38  669 Spruce St, Los Angeles, CA 90001     4   \n",
       "4  04/12/19 14:38  669 Spruce St, Los Angeles, CA 90001     4   \n",
       "5  04/30/19 09:27     333 8th St, Los Angeles, CA 90001     4   \n",
       "\n",
       "   Montant commande         Ville  \n",
       "0             23.90        Dallas  \n",
       "2             99.99        Boston  \n",
       "3            600.00   Los Angeles  \n",
       "4             11.99   Los Angeles  \n",
       "5             11.99   Los Angeles  "
      ]
     },
     "execution_count": 149,
     "metadata": {},
     "output_type": "execute_result"
    }
   ],
   "source": [
    "all_data.head()"
   ]
  },
  {
   "cell_type": "code",
   "execution_count": 150,
   "id": "f807b295",
   "metadata": {},
   "outputs": [
    {
     "data": {
      "text/html": [
       "<div>\n",
       "<style scoped>\n",
       "    .dataframe tbody tr th:only-of-type {\n",
       "        vertical-align: middle;\n",
       "    }\n",
       "\n",
       "    .dataframe tbody tr th {\n",
       "        vertical-align: top;\n",
       "    }\n",
       "\n",
       "    .dataframe thead th {\n",
       "        text-align: right;\n",
       "    }\n",
       "</style>\n",
       "<table border=\"1\" class=\"dataframe\">\n",
       "  <thead>\n",
       "    <tr style=\"text-align: right;\">\n",
       "      <th></th>\n",
       "      <th>ID commande</th>\n",
       "      <th>Produit</th>\n",
       "      <th>Quantite commande</th>\n",
       "      <th>Prix unitaire</th>\n",
       "      <th>Date commande</th>\n",
       "      <th>Adresse achat</th>\n",
       "      <th>mois</th>\n",
       "      <th>Montant commande</th>\n",
       "      <th>Ville</th>\n",
       "      <th>Heure</th>\n",
       "    </tr>\n",
       "  </thead>\n",
       "  <tbody>\n",
       "    <tr>\n",
       "      <th>0</th>\n",
       "      <td>176558</td>\n",
       "      <td>USB-C Charging Cable</td>\n",
       "      <td>2</td>\n",
       "      <td>11.95</td>\n",
       "      <td>04/19/19 08:46</td>\n",
       "      <td>917 1st St, Dallas, TX 75001</td>\n",
       "      <td>4</td>\n",
       "      <td>23.90</td>\n",
       "      <td>Dallas</td>\n",
       "      <td>8</td>\n",
       "    </tr>\n",
       "    <tr>\n",
       "      <th>2</th>\n",
       "      <td>176559</td>\n",
       "      <td>Bose SoundSport Headphones</td>\n",
       "      <td>1</td>\n",
       "      <td>99.99</td>\n",
       "      <td>04/07/19 22:30</td>\n",
       "      <td>682 Chestnut St, Boston, MA 02215</td>\n",
       "      <td>4</td>\n",
       "      <td>99.99</td>\n",
       "      <td>Boston</td>\n",
       "      <td>22</td>\n",
       "    </tr>\n",
       "    <tr>\n",
       "      <th>3</th>\n",
       "      <td>176560</td>\n",
       "      <td>Google Phone</td>\n",
       "      <td>1</td>\n",
       "      <td>600.00</td>\n",
       "      <td>04/12/19 14:38</td>\n",
       "      <td>669 Spruce St, Los Angeles, CA 90001</td>\n",
       "      <td>4</td>\n",
       "      <td>600.00</td>\n",
       "      <td>Los Angeles</td>\n",
       "      <td>14</td>\n",
       "    </tr>\n",
       "    <tr>\n",
       "      <th>4</th>\n",
       "      <td>176560</td>\n",
       "      <td>Wired Headphones</td>\n",
       "      <td>1</td>\n",
       "      <td>11.99</td>\n",
       "      <td>04/12/19 14:38</td>\n",
       "      <td>669 Spruce St, Los Angeles, CA 90001</td>\n",
       "      <td>4</td>\n",
       "      <td>11.99</td>\n",
       "      <td>Los Angeles</td>\n",
       "      <td>14</td>\n",
       "    </tr>\n",
       "    <tr>\n",
       "      <th>5</th>\n",
       "      <td>176561</td>\n",
       "      <td>Wired Headphones</td>\n",
       "      <td>1</td>\n",
       "      <td>11.99</td>\n",
       "      <td>04/30/19 09:27</td>\n",
       "      <td>333 8th St, Los Angeles, CA 90001</td>\n",
       "      <td>4</td>\n",
       "      <td>11.99</td>\n",
       "      <td>Los Angeles</td>\n",
       "      <td>9</td>\n",
       "    </tr>\n",
       "  </tbody>\n",
       "</table>\n",
       "</div>"
      ],
      "text/plain": [
       "  ID commande                     Produit  Quantite commande  Prix unitaire  \\\n",
       "0      176558        USB-C Charging Cable                  2          11.95   \n",
       "2      176559  Bose SoundSport Headphones                  1          99.99   \n",
       "3      176560                Google Phone                  1         600.00   \n",
       "4      176560            Wired Headphones                  1          11.99   \n",
       "5      176561            Wired Headphones                  1          11.99   \n",
       "\n",
       "    Date commande                         Adresse achat  mois  \\\n",
       "0  04/19/19 08:46          917 1st St, Dallas, TX 75001     4   \n",
       "2  04/07/19 22:30     682 Chestnut St, Boston, MA 02215     4   \n",
       "3  04/12/19 14:38  669 Spruce St, Los Angeles, CA 90001     4   \n",
       "4  04/12/19 14:38  669 Spruce St, Los Angeles, CA 90001     4   \n",
       "5  04/30/19 09:27     333 8th St, Los Angeles, CA 90001     4   \n",
       "\n",
       "   Montant commande         Ville  Heure  \n",
       "0             23.90        Dallas      8  \n",
       "2             99.99        Boston     22  \n",
       "3            600.00   Los Angeles     14  \n",
       "4             11.99   Los Angeles     14  \n",
       "5             11.99   Los Angeles      9  "
      ]
     },
     "execution_count": 150,
     "metadata": {},
     "output_type": "execute_result"
    }
   ],
   "source": [
    "#extraire l'heure dun date time\n",
    "\n",
    "all_data['Heure'] = pd.to_datetime(all_data['Date commande']).dt.hour\n",
    "all_data.head()"
   ]
  },
  {
   "cell_type": "code",
   "execution_count": 152,
   "id": "da80a87e",
   "metadata": {},
   "outputs": [
    {
     "data": {
      "text/plain": [
       "array([ 8, 22, 14,  9, 13,  7, 10, 17, 12, 19, 15, 20, 18,  0, 11, 23, 21,\n",
       "        4, 16,  5,  2,  1,  6,  3], dtype=int64)"
      ]
     },
     "execution_count": 152,
     "metadata": {},
     "output_type": "execute_result"
    }
   ],
   "source": [
    "all_data['Heure'].unique()"
   ]
  },
  {
   "cell_type": "code",
   "execution_count": 160,
   "id": "26c9fe0e",
   "metadata": {},
   "outputs": [
    {
     "data": {
      "text/plain": [
       "array([ 3910,  2350,  1243,   831,   854,  1321,  2482,  4011,  6256,\n",
       "        8748, 10944, 12411, 12587, 12129, 10984, 10175, 10384, 10899,\n",
       "       12280, 12905, 12228, 10921,  8822,  6275], dtype=int64)"
      ]
     },
     "execution_count": 160,
     "metadata": {},
     "output_type": "execute_result"
    }
   ],
   "source": [
    "all_data.groupby(['Heure'])['Heure'].value_counts().values"
   ]
  },
  {
   "cell_type": "code",
   "execution_count": 171,
   "id": "5c8d9e14",
   "metadata": {},
   "outputs": [
    {
     "name": "stdout",
     "output_type": "stream",
     "text": [
      "[0, 1, 2, 3, 4, 5, 6, 7, 8, 9, 10, 11, 12, 13, 14, 15, 16, 17, 18, 19, 20, 21, 22, 23] [3910, 2350, 1243, 831, 854, 1321, 2482, 4011, 6256, 8748, 10944, 12411, 12587, 12129, 10984, 10175, 10384, 10899, 12280, 12905, 12228, 10921, 8822, 6275]\n"
     ]
    }
   ],
   "source": [
    "keys=[]\n",
    "hours=[]\n",
    "\n",
    "for key, hour in all_data.groupby('Heure'):\n",
    "    keys.append(key)\n",
    "    hours.append(len(hour))\n",
    "print(keys, hours)"
   ]
  },
  {
   "cell_type": "code",
   "execution_count": 178,
   "id": "883d1ee3",
   "metadata": {},
   "outputs": [
    {
     "data": {
      "text/plain": [
       "([<matplotlib.axis.XTick at 0x1e905c7ed70>,\n",
       "  <matplotlib.axis.XTick at 0x1e905c7ed40>,\n",
       "  <matplotlib.axis.XTick at 0x1e905c7e950>,\n",
       "  <matplotlib.axis.XTick at 0x1e905c7d090>,\n",
       "  <matplotlib.axis.XTick at 0x1e905a6ac50>,\n",
       "  <matplotlib.axis.XTick at 0x1e905a6b6d0>,\n",
       "  <matplotlib.axis.XTick at 0x1e905a6beb0>,\n",
       "  <matplotlib.axis.XTick at 0x1e905a946d0>,\n",
       "  <matplotlib.axis.XTick at 0x1e905a94eb0>,\n",
       "  <matplotlib.axis.XTick at 0x1e905a6b850>,\n",
       "  <matplotlib.axis.XTick at 0x1e905a94850>,\n",
       "  <matplotlib.axis.XTick at 0x1e905a959f0>,\n",
       "  <matplotlib.axis.XTick at 0x1e905a961d0>,\n",
       "  <matplotlib.axis.XTick at 0x1e905a969b0>,\n",
       "  <matplotlib.axis.XTick at 0x1e905a97190>,\n",
       "  <matplotlib.axis.XTick at 0x1e905a96380>,\n",
       "  <matplotlib.axis.XTick at 0x1e905a97340>,\n",
       "  <matplotlib.axis.XTick at 0x1e905a97b20>,\n",
       "  <matplotlib.axis.XTick at 0x1e905ab8340>,\n",
       "  <matplotlib.axis.XTick at 0x1e905ab8b20>,\n",
       "  <matplotlib.axis.XTick at 0x1e905a974f0>,\n",
       "  <matplotlib.axis.XTick at 0x1e905ab86d0>,\n",
       "  <matplotlib.axis.XTick at 0x1e905ab94b0>,\n",
       "  <matplotlib.axis.XTick at 0x1e905ab9c90>],\n",
       " [Text(0, 0, '0'),\n",
       "  Text(1, 0, '1'),\n",
       "  Text(2, 0, '2'),\n",
       "  Text(3, 0, '3'),\n",
       "  Text(4, 0, '4'),\n",
       "  Text(5, 0, '5'),\n",
       "  Text(6, 0, '6'),\n",
       "  Text(7, 0, '7'),\n",
       "  Text(8, 0, '8'),\n",
       "  Text(9, 0, '9'),\n",
       "  Text(10, 0, '10'),\n",
       "  Text(11, 0, '11'),\n",
       "  Text(12, 0, '12'),\n",
       "  Text(13, 0, '13'),\n",
       "  Text(14, 0, '14'),\n",
       "  Text(15, 0, '15'),\n",
       "  Text(16, 0, '16'),\n",
       "  Text(17, 0, '17'),\n",
       "  Text(18, 0, '18'),\n",
       "  Text(19, 0, '19'),\n",
       "  Text(20, 0, '20'),\n",
       "  Text(21, 0, '21'),\n",
       "  Text(22, 0, '22'),\n",
       "  Text(23, 0, '23')])"
      ]
     },
     "execution_count": 178,
     "metadata": {},
     "output_type": "execute_result"
    },
    {
     "data": {
      "image/png": "[encoded data removed]",
      "text/plain": [
       "<Figure size 640x480 with 1 Axes>"
      ]
     },
     "metadata": {},
     "output_type": "display_data"
    }
   ],
   "source": [
    "#plt.grid() #afficher grille\n",
    "plt.figure() \n",
    "plt.plot(keys, hours)\n",
    "plt.xticks(keys)"
   ]
  },
  {
   "cell_type": "code",
   "execution_count": null,
   "id": "43e0cc41",
   "metadata": {},
   "outputs": [],
   "source": [
    "##les meilleures temps se situent entre 11h et 12h et entre 18h et 19h"
   ]
  },
  {
   "cell_type": "markdown",
   "id": "006ce361",
   "metadata": {},
   "source": [
    "# produit qui réalise le plus de vente"
   ]
  },
  {
   "cell_type": "code",
   "execution_count": 179,
   "id": "adf0c0ce",
   "metadata": {},
   "outputs": [
    {
     "data": {
      "text/html": [
       "<div>\n",
       "<style scoped>\n",
       "    .dataframe tbody tr th:only-of-type {\n",
       "        vertical-align: middle;\n",
       "    }\n",
       "\n",
       "    .dataframe tbody tr th {\n",
       "        vertical-align: top;\n",
       "    }\n",
       "\n",
       "    .dataframe thead th {\n",
       "        text-align: right;\n",
       "    }\n",
       "</style>\n",
       "<table border=\"1\" class=\"dataframe\">\n",
       "  <thead>\n",
       "    <tr style=\"text-align: right;\">\n",
       "      <th></th>\n",
       "      <th>ID commande</th>\n",
       "      <th>Produit</th>\n",
       "      <th>Quantite commande</th>\n",
       "      <th>Prix unitaire</th>\n",
       "      <th>Date commande</th>\n",
       "      <th>Adresse achat</th>\n",
       "      <th>mois</th>\n",
       "      <th>Montant commande</th>\n",
       "      <th>Ville</th>\n",
       "      <th>Heure</th>\n",
       "    </tr>\n",
       "  </thead>\n",
       "  <tbody>\n",
       "    <tr>\n",
       "      <th>0</th>\n",
       "      <td>176558</td>\n",
       "      <td>USB-C Charging Cable</td>\n",
       "      <td>2</td>\n",
       "      <td>11.95</td>\n",
       "      <td>04/19/19 08:46</td>\n",
       "      <td>917 1st St, Dallas, TX 75001</td>\n",
       "      <td>4</td>\n",
       "      <td>23.90</td>\n",
       "      <td>Dallas</td>\n",
       "      <td>8</td>\n",
       "    </tr>\n",
       "    <tr>\n",
       "      <th>2</th>\n",
       "      <td>176559</td>\n",
       "      <td>Bose SoundSport Headphones</td>\n",
       "      <td>1</td>\n",
       "      <td>99.99</td>\n",
       "      <td>04/07/19 22:30</td>\n",
       "      <td>682 Chestnut St, Boston, MA 02215</td>\n",
       "      <td>4</td>\n",
       "      <td>99.99</td>\n",
       "      <td>Boston</td>\n",
       "      <td>22</td>\n",
       "    </tr>\n",
       "    <tr>\n",
       "      <th>3</th>\n",
       "      <td>176560</td>\n",
       "      <td>Google Phone</td>\n",
       "      <td>1</td>\n",
       "      <td>600.00</td>\n",
       "      <td>04/12/19 14:38</td>\n",
       "      <td>669 Spruce St, Los Angeles, CA 90001</td>\n",
       "      <td>4</td>\n",
       "      <td>600.00</td>\n",
       "      <td>Los Angeles</td>\n",
       "      <td>14</td>\n",
       "    </tr>\n",
       "    <tr>\n",
       "      <th>4</th>\n",
       "      <td>176560</td>\n",
       "      <td>Wired Headphones</td>\n",
       "      <td>1</td>\n",
       "      <td>11.99</td>\n",
       "      <td>04/12/19 14:38</td>\n",
       "      <td>669 Spruce St, Los Angeles, CA 90001</td>\n",
       "      <td>4</td>\n",
       "      <td>11.99</td>\n",
       "      <td>Los Angeles</td>\n",
       "      <td>14</td>\n",
       "    </tr>\n",
       "    <tr>\n",
       "      <th>5</th>\n",
       "      <td>176561</td>\n",
       "      <td>Wired Headphones</td>\n",
       "      <td>1</td>\n",
       "      <td>11.99</td>\n",
       "      <td>04/30/19 09:27</td>\n",
       "      <td>333 8th St, Los Angeles, CA 90001</td>\n",
       "      <td>4</td>\n",
       "      <td>11.99</td>\n",
       "      <td>Los Angeles</td>\n",
       "      <td>9</td>\n",
       "    </tr>\n",
       "  </tbody>\n",
       "</table>\n",
       "</div>"
      ],
      "text/plain": [
       "  ID commande                     Produit  Quantite commande  Prix unitaire  \\\n",
       "0      176558        USB-C Charging Cable                  2          11.95   \n",
       "2      176559  Bose SoundSport Headphones                  1          99.99   \n",
       "3      176560                Google Phone                  1         600.00   \n",
       "4      176560            Wired Headphones                  1          11.99   \n",
       "5      176561            Wired Headphones                  1          11.99   \n",
       "\n",
       "    Date commande                         Adresse achat  mois  \\\n",
       "0  04/19/19 08:46          917 1st St, Dallas, TX 75001     4   \n",
       "2  04/07/19 22:30     682 Chestnut St, Boston, MA 02215     4   \n",
       "3  04/12/19 14:38  669 Spruce St, Los Angeles, CA 90001     4   \n",
       "4  04/12/19 14:38  669 Spruce St, Los Angeles, CA 90001     4   \n",
       "5  04/30/19 09:27     333 8th St, Los Angeles, CA 90001     4   \n",
       "\n",
       "   Montant commande         Ville  Heure  \n",
       "0             23.90        Dallas      8  \n",
       "2             99.99        Boston     22  \n",
       "3            600.00   Los Angeles     14  \n",
       "4             11.99   Los Angeles     14  \n",
       "5             11.99   Los Angeles      9  "
      ]
     },
     "execution_count": 179,
     "metadata": {},
     "output_type": "execute_result"
    }
   ],
   "source": [
    "all_data.head()"
   ]
  },
  {
   "cell_type": "code",
   "execution_count": 180,
   "id": "d2436d2b",
   "metadata": {},
   "outputs": [],
   "source": [
    "qte_vente_produit = all_data.groupby(['Produit'])['Quantite commande'].sum()"
   ]
  },
  {
   "cell_type": "code",
   "execution_count": 183,
   "id": "c42f361a",
   "metadata": {},
   "outputs": [
    {
     "data": {
      "text/plain": [
       "array([ 4129,  6244,  7550,  6199, 27635, 31017, 15661, 13457,  4819,\n",
       "        5532,   646,   666, 23217,  4728,  4130, 23975,  2068, 20557,\n",
       "        6849])"
      ]
     },
     "execution_count": 183,
     "metadata": {},
     "output_type": "execute_result"
    }
   ],
   "source": [
    "qte_vente_produit.values"
   ]
  },
  {
   "cell_type": "code",
   "execution_count": 185,
   "id": "2b5ed25b",
   "metadata": {},
   "outputs": [],
   "source": [
    "produit = qte_vente_produit.index\n",
    "qte = qte_vente_produit.values"
   ]
  },
  {
   "cell_type": "code",
   "execution_count": 188,
   "id": "76323e18",
   "metadata": {},
   "outputs": [
    {
     "data": {
      "text/plain": [
       "Text(0.5, 1.0, 'quantité de vente par produit')"
      ]
     },
     "execution_count": 188,
     "metadata": {},
     "output_type": "execute_result"
    },
    {
     "data": {
      "image/png": "[encoded data removed]",
      "text/plain": [
       "<Figure size 640x480 with 1 Axes>"
      ]
     },
     "metadata": {},
     "output_type": "display_data"
    }
   ],
   "source": [
    "plt.bar(produit, qte)\n",
    "plt.xticks(rotation='vertical')\n",
    "plt.xlabel('Produit')\n",
    "plt.ylabel('Quantite')\n",
    "plt.title('quantité de vente par produit')"
   ]
  },
  {
   "cell_type": "code",
   "execution_count": 189,
   "id": "9d7b5000",
   "metadata": {},
   "outputs": [
    {
     "data": {
      "text/plain": [
       "<Axes: xlabel='Produit'>"
      ]
     },
     "execution_count": 189,
     "metadata": {},
     "output_type": "execute_result"
    },
    {
     "data": {
      "image/png": "[encoded data removed]",
      "text/plain": [
       "<Figure size 640x480 with 1 Axes>"
      ]
     },
     "metadata": {},
     "output_type": "display_data"
    }
   ],
   "source": [
    "all_data.groupby(['Produit'])['Quantite commande'].sum().plot(kind='bar')"
   ]
  },
  {
   "cell_type": "code",
   "execution_count": 194,
   "id": "cb14f28c",
   "metadata": {},
   "outputs": [],
   "source": [
    "prix_unitaire = all_data.groupby(['Produit'])['Prix unitaire'].mean()"
   ]
  },
  {
   "cell_type": "code",
   "execution_count": 196,
   "id": "475f5cc5",
   "metadata": {},
   "outputs": [
    {
     "data": {
      "text/plain": [
       "Produit\n",
       "20in Monitor                   454148.71\n",
       "27in 4K Gaming Monitor        2435097.56\n",
       "27in FHD Monitor              1132424.50\n",
       "34in Ultrawide Monitor        2355558.01\n",
       "AA Batteries (4-pack)          106118.40\n",
       "AAA Batteries (4-pack)          92740.83\n",
       "Apple Airpods Headphones      2349150.00\n",
       "Bose SoundSport Headphones    1345565.43\n",
       "Flatscreen TV                 1445700.00\n",
       "Google Phone                  3319200.00\n",
       "LG Dryer                       387600.00\n",
       "LG Washing Machine             399600.00\n",
       "Lightning Charging Cable       347094.15\n",
       "Macbook Pro Laptop            8037600.00\n",
       "ThinkPad Laptop               4129958.70\n",
       "USB-C Charging Cable           286501.25\n",
       "Vareebadd Phone                827200.00\n",
       "Wired Headphones               246478.43\n",
       "iPhone                        4794300.00\n",
       "Name: Prix unitaire, dtype: float64"
      ]
     },
     "execution_count": 196,
     "metadata": {},
     "output_type": "execute_result"
    }
   ],
   "source": [
    "prix_total = prix_unitaire * qte\n",
    "prix_total"
   ]
  },
  {
   "cell_type": "code",
   "execution_count": 198,
   "id": "fbf04bd5",
   "metadata": {},
   "outputs": [
    {
     "data": {
      "text/plain": [
       "([0, 1, 2, 3, 4, 5, 6, 7, 8, 9, 10, 11, 12, 13, 14, 15, 16, 17, 18],\n",
       " [Text(0, 0, '20in Monitor'),\n",
       "  Text(1, 0, '27in 4K Gaming Monitor'),\n",
       "  Text(2, 0, '27in FHD Monitor'),\n",
       "  Text(3, 0, '34in Ultrawide Monitor'),\n",
       "  Text(4, 0, 'AA Batteries (4-pack)'),\n",
       "  Text(5, 0, 'AAA Batteries (4-pack)'),\n",
       "  Text(6, 0, 'Apple Airpods Headphones'),\n",
       "  Text(7, 0, 'Bose SoundSport Headphones'),\n",
       "  Text(8, 0, 'Flatscreen TV'),\n",
       "  Text(9, 0, 'Google Phone'),\n",
       "  Text(10, 0, 'LG Dryer'),\n",
       "  Text(11, 0, 'LG Washing Machine'),\n",
       "  Text(12, 0, 'Lightning Charging Cable'),\n",
       "  Text(13, 0, 'Macbook Pro Laptop'),\n",
       "  Text(14, 0, 'ThinkPad Laptop'),\n",
       "  Text(15, 0, 'USB-C Charging Cable'),\n",
       "  Text(16, 0, 'Vareebadd Phone'),\n",
       "  Text(17, 0, 'Wired Headphones'),\n",
       "  Text(18, 0, 'iPhone')])"
      ]
     },
     "execution_count": 198,
     "metadata": {},
     "output_type": "execute_result"
    },
    {
     "data": {
      "image/png": "[encoded data removed]",
      "text/plain": [
       "<Figure size 640x480 with 1 Axes>"
      ]
     },
     "metadata": {},
     "output_type": "display_data"
    }
   ],
   "source": [
    "plt.bar(produit, prix_total)\n",
    "plt.xticks(rotation = 'vertical')"
   ]
  },
  {
   "cell_type": "code",
   "execution_count": 205,
   "id": "5cfa3d99",
   "metadata": {},
   "outputs": [
    {
     "name": "stderr",
     "output_type": "stream",
     "text": [
      "C:\\Users\\LIEUMO NJOPNU\\AppData\\Local\\Temp\\ipykernel_8936\\1862165541.py:6: UserWarning: FixedFormatter should only be used together with FixedLocator\n",
      "  ax1.set_xticklabels(produit, rotation='vertical', size=8)\n"
     ]
    },
    {
     "data": {
      "text/plain": [
       "[Text(0, 0, '20in Monitor'),\n",
       " Text(1, 0, '27in 4K Gaming Monitor'),\n",
       " Text(2, 0, '27in FHD Monitor'),\n",
       " Text(3, 0, '34in Ultrawide Monitor'),\n",
       " Text(4, 0, 'AA Batteries (4-pack)'),\n",
       " Text(5, 0, 'AAA Batteries (4-pack)'),\n",
       " Text(6, 0, 'Apple Airpods Headphones'),\n",
       " Text(7, 0, 'Bose SoundSport Headphones'),\n",
       " Text(8, 0, 'Flatscreen TV'),\n",
       " Text(9, 0, 'Google Phone'),\n",
       " Text(10, 0, 'LG Dryer'),\n",
       " Text(11, 0, 'LG Washing Machine'),\n",
       " Text(12, 0, 'Lightning Charging Cable'),\n",
       " Text(13, 0, 'Macbook Pro Laptop'),\n",
       " Text(14, 0, 'ThinkPad Laptop'),\n",
       " Text(15, 0, 'USB-C Charging Cable'),\n",
       " Text(16, 0, 'Vareebadd Phone'),\n",
       " Text(17, 0, 'Wired Headphones'),\n",
       " Text(18, 0, 'iPhone')]"
      ]
     },
     "execution_count": 205,
     "metadata": {},
     "output_type": "execute_result"
    },
    {
     "data": {
      "text/plain": [
       "<Figure size 4000x2400 with 0 Axes>"
      ]
     },
     "metadata": {},
     "output_type": "display_data"
    },
    {
     "data": {
      "image/png": "[encoded data removed]",
      "text/plain": [
       "<Figure size 640x480 with 2 Axes>"
      ]
     },
     "metadata": {},
     "output_type": "display_data"
    }
   ],
   "source": [
    "plt.figure(figsize=(40,24))\n",
    "fig,ax1 = plt.subplots()\n",
    "ax2 = ax1.twinx()\n",
    "ax1.bar(produit, qte, color='g')\n",
    "ax2.plot(produit, prix_total, color='r')\n",
    "ax1.set_xticklabels(produit, rotation='vertical', size=8)"
   ]
  },
  {
   "cell_type": "markdown",
   "id": "146f16d8",
   "metadata": {},
   "source": [
    "# quel est la combinaison des produits les plus vendus (les produits avec le meme id achat ont ete acheté en meme temps"
   ]
  },
  {
   "cell_type": "code",
   "execution_count": 206,
   "id": "0f5e90d9",
   "metadata": {},
   "outputs": [
    {
     "data": {
      "text/html": [
       "<div>\n",
       "<style scoped>\n",
       "    .dataframe tbody tr th:only-of-type {\n",
       "        vertical-align: middle;\n",
       "    }\n",
       "\n",
       "    .dataframe tbody tr th {\n",
       "        vertical-align: top;\n",
       "    }\n",
       "\n",
       "    .dataframe thead th {\n",
       "        text-align: right;\n",
       "    }\n",
       "</style>\n",
       "<table border=\"1\" class=\"dataframe\">\n",
       "  <thead>\n",
       "    <tr style=\"text-align: right;\">\n",
       "      <th></th>\n",
       "      <th>ID commande</th>\n",
       "      <th>Produit</th>\n",
       "      <th>Quantite commande</th>\n",
       "      <th>Prix unitaire</th>\n",
       "      <th>Date commande</th>\n",
       "      <th>Adresse achat</th>\n",
       "      <th>mois</th>\n",
       "      <th>Montant commande</th>\n",
       "      <th>Ville</th>\n",
       "      <th>Heure</th>\n",
       "    </tr>\n",
       "  </thead>\n",
       "  <tbody>\n",
       "    <tr>\n",
       "      <th>0</th>\n",
       "      <td>176558</td>\n",
       "      <td>USB-C Charging Cable</td>\n",
       "      <td>2</td>\n",
       "      <td>11.95</td>\n",
       "      <td>04/19/19 08:46</td>\n",
       "      <td>917 1st St, Dallas, TX 75001</td>\n",
       "      <td>4</td>\n",
       "      <td>23.90</td>\n",
       "      <td>Dallas</td>\n",
       "      <td>8</td>\n",
       "    </tr>\n",
       "    <tr>\n",
       "      <th>2</th>\n",
       "      <td>176559</td>\n",
       "      <td>Bose SoundSport Headphones</td>\n",
       "      <td>1</td>\n",
       "      <td>99.99</td>\n",
       "      <td>04/07/19 22:30</td>\n",
       "      <td>682 Chestnut St, Boston, MA 02215</td>\n",
       "      <td>4</td>\n",
       "      <td>99.99</td>\n",
       "      <td>Boston</td>\n",
       "      <td>22</td>\n",
       "    </tr>\n",
       "    <tr>\n",
       "      <th>3</th>\n",
       "      <td>176560</td>\n",
       "      <td>Google Phone</td>\n",
       "      <td>1</td>\n",
       "      <td>600.00</td>\n",
       "      <td>04/12/19 14:38</td>\n",
       "      <td>669 Spruce St, Los Angeles, CA 90001</td>\n",
       "      <td>4</td>\n",
       "      <td>600.00</td>\n",
       "      <td>Los Angeles</td>\n",
       "      <td>14</td>\n",
       "    </tr>\n",
       "    <tr>\n",
       "      <th>4</th>\n",
       "      <td>176560</td>\n",
       "      <td>Wired Headphones</td>\n",
       "      <td>1</td>\n",
       "      <td>11.99</td>\n",
       "      <td>04/12/19 14:38</td>\n",
       "      <td>669 Spruce St, Los Angeles, CA 90001</td>\n",
       "      <td>4</td>\n",
       "      <td>11.99</td>\n",
       "      <td>Los Angeles</td>\n",
       "      <td>14</td>\n",
       "    </tr>\n",
       "    <tr>\n",
       "      <th>5</th>\n",
       "      <td>176561</td>\n",
       "      <td>Wired Headphones</td>\n",
       "      <td>1</td>\n",
       "      <td>11.99</td>\n",
       "      <td>04/30/19 09:27</td>\n",
       "      <td>333 8th St, Los Angeles, CA 90001</td>\n",
       "      <td>4</td>\n",
       "      <td>11.99</td>\n",
       "      <td>Los Angeles</td>\n",
       "      <td>9</td>\n",
       "    </tr>\n",
       "  </tbody>\n",
       "</table>\n",
       "</div>"
      ],
      "text/plain": [
       "  ID commande                     Produit  Quantite commande  Prix unitaire  \\\n",
       "0      176558        USB-C Charging Cable                  2          11.95   \n",
       "2      176559  Bose SoundSport Headphones                  1          99.99   \n",
       "3      176560                Google Phone                  1         600.00   \n",
       "4      176560            Wired Headphones                  1          11.99   \n",
       "5      176561            Wired Headphones                  1          11.99   \n",
       "\n",
       "    Date commande                         Adresse achat  mois  \\\n",
       "0  04/19/19 08:46          917 1st St, Dallas, TX 75001     4   \n",
       "2  04/07/19 22:30     682 Chestnut St, Boston, MA 02215     4   \n",
       "3  04/12/19 14:38  669 Spruce St, Los Angeles, CA 90001     4   \n",
       "4  04/12/19 14:38  669 Spruce St, Los Angeles, CA 90001     4   \n",
       "5  04/30/19 09:27     333 8th St, Los Angeles, CA 90001     4   \n",
       "\n",
       "   Montant commande         Ville  Heure  \n",
       "0             23.90        Dallas      8  \n",
       "2             99.99        Boston     22  \n",
       "3            600.00   Los Angeles     14  \n",
       "4             11.99   Los Angeles     14  \n",
       "5             11.99   Los Angeles      9  "
      ]
     },
     "execution_count": 206,
     "metadata": {},
     "output_type": "execute_result"
    }
   ],
   "source": [
    "all_data.head()"
   ]
  },
  {
   "cell_type": "code",
   "execution_count": 213,
   "id": "efb4dc8e",
   "metadata": {},
   "outputs": [],
   "source": [
    "#afficher les doublons id commande\n",
    "\n",
    "df=all_data[all_data['ID commande'].duplicated(keep=False)]"
   ]
  },
  {
   "cell_type": "code",
   "execution_count": 214,
   "id": "57946558",
   "metadata": {},
   "outputs": [
    {
     "name": "stderr",
     "output_type": "stream",
     "text": [
      "C:\\Users\\LIEUMO NJOPNU\\AppData\\Local\\Temp\\ipykernel_8936\\2223121823.py:1: SettingWithCopyWarning: \n",
      "A value is trying to be set on a copy of a slice from a DataFrame.\n",
      "Try using .loc[row_indexer,col_indexer] = value instead\n",
      "\n",
      "See the caveats in the documentation: https://pandas.pydata.org/pandas-docs/stable/user_guide/indexing.html#returning-a-view-versus-a-copy\n",
      "  df['grouped'] = df.groupby('ID commande')['Produit'].transform(lambda x:\n"
     ]
    }
   ],
   "source": [
    "df['grouped'] = df.groupby('ID commande')['Produit'].transform(lambda x: \n",
    "                                    ','.join(x))"
   ]
  },
  {
   "cell_type": "code",
   "execution_count": 215,
   "id": "3affc2dd",
   "metadata": {},
   "outputs": [
    {
     "data": {
      "text/html": [
       "<div>\n",
       "<style scoped>\n",
       "    .dataframe tbody tr th:only-of-type {\n",
       "        vertical-align: middle;\n",
       "    }\n",
       "\n",
       "    .dataframe tbody tr th {\n",
       "        vertical-align: top;\n",
       "    }\n",
       "\n",
       "    .dataframe thead th {\n",
       "        text-align: right;\n",
       "    }\n",
       "</style>\n",
       "<table border=\"1\" class=\"dataframe\">\n",
       "  <thead>\n",
       "    <tr style=\"text-align: right;\">\n",
       "      <th></th>\n",
       "      <th>ID commande</th>\n",
       "      <th>Produit</th>\n",
       "      <th>Quantite commande</th>\n",
       "      <th>Prix unitaire</th>\n",
       "      <th>Date commande</th>\n",
       "      <th>Adresse achat</th>\n",
       "      <th>mois</th>\n",
       "      <th>Montant commande</th>\n",
       "      <th>Ville</th>\n",
       "      <th>Heure</th>\n",
       "      <th>grouped</th>\n",
       "    </tr>\n",
       "  </thead>\n",
       "  <tbody>\n",
       "    <tr>\n",
       "      <th>3</th>\n",
       "      <td>176560</td>\n",
       "      <td>Google Phone</td>\n",
       "      <td>1</td>\n",
       "      <td>600.00</td>\n",
       "      <td>04/12/19 14:38</td>\n",
       "      <td>669 Spruce St, Los Angeles, CA 90001</td>\n",
       "      <td>4</td>\n",
       "      <td>600.00</td>\n",
       "      <td>Los Angeles</td>\n",
       "      <td>14</td>\n",
       "      <td>Google Phone,Wired Headphones</td>\n",
       "    </tr>\n",
       "    <tr>\n",
       "      <th>4</th>\n",
       "      <td>176560</td>\n",
       "      <td>Wired Headphones</td>\n",
       "      <td>1</td>\n",
       "      <td>11.99</td>\n",
       "      <td>04/12/19 14:38</td>\n",
       "      <td>669 Spruce St, Los Angeles, CA 90001</td>\n",
       "      <td>4</td>\n",
       "      <td>11.99</td>\n",
       "      <td>Los Angeles</td>\n",
       "      <td>14</td>\n",
       "      <td>Google Phone,Wired Headphones</td>\n",
       "    </tr>\n",
       "    <tr>\n",
       "      <th>18</th>\n",
       "      <td>176574</td>\n",
       "      <td>Google Phone</td>\n",
       "      <td>1</td>\n",
       "      <td>600.00</td>\n",
       "      <td>04/03/19 19:42</td>\n",
       "      <td>20 Hill St, Los Angeles, CA 90001</td>\n",
       "      <td>4</td>\n",
       "      <td>600.00</td>\n",
       "      <td>Los Angeles</td>\n",
       "      <td>19</td>\n",
       "      <td>Google Phone,USB-C Charging Cable</td>\n",
       "    </tr>\n",
       "    <tr>\n",
       "      <th>19</th>\n",
       "      <td>176574</td>\n",
       "      <td>USB-C Charging Cable</td>\n",
       "      <td>1</td>\n",
       "      <td>11.95</td>\n",
       "      <td>04/03/19 19:42</td>\n",
       "      <td>20 Hill St, Los Angeles, CA 90001</td>\n",
       "      <td>4</td>\n",
       "      <td>11.95</td>\n",
       "      <td>Los Angeles</td>\n",
       "      <td>19</td>\n",
       "      <td>Google Phone,USB-C Charging Cable</td>\n",
       "    </tr>\n",
       "    <tr>\n",
       "      <th>30</th>\n",
       "      <td>176585</td>\n",
       "      <td>Bose SoundSport Headphones</td>\n",
       "      <td>1</td>\n",
       "      <td>99.99</td>\n",
       "      <td>04/07/19 11:31</td>\n",
       "      <td>823 Highland St, Boston, MA 02215</td>\n",
       "      <td>4</td>\n",
       "      <td>99.99</td>\n",
       "      <td>Boston</td>\n",
       "      <td>11</td>\n",
       "      <td>Bose SoundSport Headphones,Bose SoundSport Hea...</td>\n",
       "    </tr>\n",
       "    <tr>\n",
       "      <th>...</th>\n",
       "      <td>...</td>\n",
       "      <td>...</td>\n",
       "      <td>...</td>\n",
       "      <td>...</td>\n",
       "      <td>...</td>\n",
       "      <td>...</td>\n",
       "      <td>...</td>\n",
       "      <td>...</td>\n",
       "      <td>...</td>\n",
       "      <td>...</td>\n",
       "      <td>...</td>\n",
       "    </tr>\n",
       "    <tr>\n",
       "      <th>11628</th>\n",
       "      <td>259303</td>\n",
       "      <td>AA Batteries (4-pack)</td>\n",
       "      <td>1</td>\n",
       "      <td>3.84</td>\n",
       "      <td>09/20/19 20:18</td>\n",
       "      <td>106 7th St, Atlanta, GA 30301</td>\n",
       "      <td>9</td>\n",
       "      <td>3.84</td>\n",
       "      <td>Atlanta</td>\n",
       "      <td>20</td>\n",
       "      <td>34in Ultrawide Monitor,AA Batteries (4-pack)</td>\n",
       "    </tr>\n",
       "    <tr>\n",
       "      <th>11639</th>\n",
       "      <td>259314</td>\n",
       "      <td>Wired Headphones</td>\n",
       "      <td>1</td>\n",
       "      <td>11.99</td>\n",
       "      <td>09/16/19 00:25</td>\n",
       "      <td>241 Highland St, Atlanta, GA 30301</td>\n",
       "      <td>9</td>\n",
       "      <td>11.99</td>\n",
       "      <td>Atlanta</td>\n",
       "      <td>0</td>\n",
       "      <td>Wired Headphones,AAA Batteries (4-pack)</td>\n",
       "    </tr>\n",
       "    <tr>\n",
       "      <th>11640</th>\n",
       "      <td>259314</td>\n",
       "      <td>AAA Batteries (4-pack)</td>\n",
       "      <td>2</td>\n",
       "      <td>2.99</td>\n",
       "      <td>09/16/19 00:25</td>\n",
       "      <td>241 Highland St, Atlanta, GA 30301</td>\n",
       "      <td>9</td>\n",
       "      <td>5.98</td>\n",
       "      <td>Atlanta</td>\n",
       "      <td>0</td>\n",
       "      <td>Wired Headphones,AAA Batteries (4-pack)</td>\n",
       "    </tr>\n",
       "    <tr>\n",
       "      <th>11677</th>\n",
       "      <td>259350</td>\n",
       "      <td>Google Phone</td>\n",
       "      <td>1</td>\n",
       "      <td>600.00</td>\n",
       "      <td>09/30/19 13:49</td>\n",
       "      <td>519 Maple St, San Francisco, CA 94016</td>\n",
       "      <td>9</td>\n",
       "      <td>600.00</td>\n",
       "      <td>San Francisco</td>\n",
       "      <td>13</td>\n",
       "      <td>Google Phone,USB-C Charging Cable</td>\n",
       "    </tr>\n",
       "    <tr>\n",
       "      <th>11678</th>\n",
       "      <td>259350</td>\n",
       "      <td>USB-C Charging Cable</td>\n",
       "      <td>1</td>\n",
       "      <td>11.95</td>\n",
       "      <td>09/30/19 13:49</td>\n",
       "      <td>519 Maple St, San Francisco, CA 94016</td>\n",
       "      <td>9</td>\n",
       "      <td>11.95</td>\n",
       "      <td>San Francisco</td>\n",
       "      <td>13</td>\n",
       "      <td>Google Phone,USB-C Charging Cable</td>\n",
       "    </tr>\n",
       "  </tbody>\n",
       "</table>\n",
       "<p>14649 rows × 11 columns</p>\n",
       "</div>"
      ],
      "text/plain": [
       "      ID commande                     Produit  Quantite commande  \\\n",
       "3          176560                Google Phone                  1   \n",
       "4          176560            Wired Headphones                  1   \n",
       "18         176574                Google Phone                  1   \n",
       "19         176574        USB-C Charging Cable                  1   \n",
       "30         176585  Bose SoundSport Headphones                  1   \n",
       "...           ...                         ...                ...   \n",
       "11628      259303       AA Batteries (4-pack)                  1   \n",
       "11639      259314            Wired Headphones                  1   \n",
       "11640      259314      AAA Batteries (4-pack)                  2   \n",
       "11677      259350                Google Phone                  1   \n",
       "11678      259350        USB-C Charging Cable                  1   \n",
       "\n",
       "       Prix unitaire   Date commande                          Adresse achat  \\\n",
       "3             600.00  04/12/19 14:38   669 Spruce St, Los Angeles, CA 90001   \n",
       "4              11.99  04/12/19 14:38   669 Spruce St, Los Angeles, CA 90001   \n",
       "18            600.00  04/03/19 19:42      20 Hill St, Los Angeles, CA 90001   \n",
       "19             11.95  04/03/19 19:42      20 Hill St, Los Angeles, CA 90001   \n",
       "30             99.99  04/07/19 11:31      823 Highland St, Boston, MA 02215   \n",
       "...              ...             ...                                    ...   \n",
       "11628           3.84  09/20/19 20:18          106 7th St, Atlanta, GA 30301   \n",
       "11639          11.99  09/16/19 00:25     241 Highland St, Atlanta, GA 30301   \n",
       "11640           2.99  09/16/19 00:25     241 Highland St, Atlanta, GA 30301   \n",
       "11677         600.00  09/30/19 13:49  519 Maple St, San Francisco, CA 94016   \n",
       "11678          11.95  09/30/19 13:49  519 Maple St, San Francisco, CA 94016   \n",
       "\n",
       "       mois  Montant commande           Ville  Heure  \\\n",
       "3         4            600.00     Los Angeles     14   \n",
       "4         4             11.99     Los Angeles     14   \n",
       "18        4            600.00     Los Angeles     19   \n",
       "19        4             11.95     Los Angeles     19   \n",
       "30        4             99.99          Boston     11   \n",
       "...     ...               ...             ...    ...   \n",
       "11628     9              3.84         Atlanta     20   \n",
       "11639     9             11.99         Atlanta      0   \n",
       "11640     9              5.98         Atlanta      0   \n",
       "11677     9            600.00   San Francisco     13   \n",
       "11678     9             11.95   San Francisco     13   \n",
       "\n",
       "                                                 grouped  \n",
       "3                          Google Phone,Wired Headphones  \n",
       "4                          Google Phone,Wired Headphones  \n",
       "18                     Google Phone,USB-C Charging Cable  \n",
       "19                     Google Phone,USB-C Charging Cable  \n",
       "30     Bose SoundSport Headphones,Bose SoundSport Hea...  \n",
       "...                                                  ...  \n",
       "11628       34in Ultrawide Monitor,AA Batteries (4-pack)  \n",
       "11639            Wired Headphones,AAA Batteries (4-pack)  \n",
       "11640            Wired Headphones,AAA Batteries (4-pack)  \n",
       "11677                  Google Phone,USB-C Charging Cable  \n",
       "11678                  Google Phone,USB-C Charging Cable  \n",
       "\n",
       "[14649 rows x 11 columns]"
      ]
     },
     "execution_count": 215,
     "metadata": {},
     "output_type": "execute_result"
    }
   ],
   "source": [
    "df"
   ]
  },
  {
   "cell_type": "code",
   "execution_count": 219,
   "id": "520c3d12",
   "metadata": {},
   "outputs": [
    {
     "data": {
      "text/plain": [
       "grouped\n",
       "20in Monitor,20in Monitor                             6\n",
       "20in Monitor,27in FHD Monitor                         4\n",
       "20in Monitor,34in Ultrawide Monitor                   2\n",
       "20in Monitor,AA Batteries (4-pack)                   12\n",
       "20in Monitor,AAA Batteries (4-pack)                   6\n",
       "                                                   ... \n",
       "iPhone,USB-C Charging Cable                          24\n",
       "iPhone,Vareebadd Phone                                6\n",
       "iPhone,Wired Headphones                             722\n",
       "iPhone,Wired Headphones,Lightning Charging Cable      3\n",
       "iPhone,iPhone                                         2\n",
       "Name: grouped, Length: 366, dtype: int64"
      ]
     },
     "execution_count": 219,
     "metadata": {},
     "output_type": "execute_result"
    }
   ],
   "source": [
    "df.groupby(['grouped'])['grouped'].count()"
   ]
  },
  {
   "cell_type": "code",
   "execution_count": 223,
   "id": "7ae5b20c",
   "metadata": {},
   "outputs": [
    {
     "data": {
      "text/html": [
       "<div>\n",
       "<style scoped>\n",
       "    .dataframe tbody tr th:only-of-type {\n",
       "        vertical-align: middle;\n",
       "    }\n",
       "\n",
       "    .dataframe tbody tr th {\n",
       "        vertical-align: top;\n",
       "    }\n",
       "\n",
       "    .dataframe thead th {\n",
       "        text-align: right;\n",
       "    }\n",
       "</style>\n",
       "<table border=\"1\" class=\"dataframe\">\n",
       "  <thead>\n",
       "    <tr style=\"text-align: right;\">\n",
       "      <th></th>\n",
       "      <th>ID commande</th>\n",
       "      <th>Produit</th>\n",
       "      <th>Quantite commande</th>\n",
       "      <th>Prix unitaire</th>\n",
       "      <th>Date commande</th>\n",
       "      <th>Adresse achat</th>\n",
       "      <th>mois</th>\n",
       "      <th>Montant commande</th>\n",
       "      <th>Ville</th>\n",
       "      <th>Heure</th>\n",
       "      <th>grouped</th>\n",
       "    </tr>\n",
       "  </thead>\n",
       "  <tbody>\n",
       "    <tr>\n",
       "      <th>3</th>\n",
       "      <td>176560</td>\n",
       "      <td>Google Phone</td>\n",
       "      <td>1</td>\n",
       "      <td>600.00</td>\n",
       "      <td>04/12/19 14:38</td>\n",
       "      <td>669 Spruce St, Los Angeles, CA 90001</td>\n",
       "      <td>4</td>\n",
       "      <td>600.00</td>\n",
       "      <td>Los Angeles</td>\n",
       "      <td>14</td>\n",
       "      <td>Google Phone,Wired Headphones</td>\n",
       "    </tr>\n",
       "    <tr>\n",
       "      <th>18</th>\n",
       "      <td>176574</td>\n",
       "      <td>Google Phone</td>\n",
       "      <td>1</td>\n",
       "      <td>600.00</td>\n",
       "      <td>04/03/19 19:42</td>\n",
       "      <td>20 Hill St, Los Angeles, CA 90001</td>\n",
       "      <td>4</td>\n",
       "      <td>600.00</td>\n",
       "      <td>Los Angeles</td>\n",
       "      <td>19</td>\n",
       "      <td>Google Phone,USB-C Charging Cable</td>\n",
       "    </tr>\n",
       "    <tr>\n",
       "      <th>30</th>\n",
       "      <td>176585</td>\n",
       "      <td>Bose SoundSport Headphones</td>\n",
       "      <td>1</td>\n",
       "      <td>99.99</td>\n",
       "      <td>04/07/19 11:31</td>\n",
       "      <td>823 Highland St, Boston, MA 02215</td>\n",
       "      <td>4</td>\n",
       "      <td>99.99</td>\n",
       "      <td>Boston</td>\n",
       "      <td>11</td>\n",
       "      <td>Bose SoundSport Headphones,Bose SoundSport Hea...</td>\n",
       "    </tr>\n",
       "    <tr>\n",
       "      <th>32</th>\n",
       "      <td>176586</td>\n",
       "      <td>AAA Batteries (4-pack)</td>\n",
       "      <td>2</td>\n",
       "      <td>2.99</td>\n",
       "      <td>04/10/19 17:00</td>\n",
       "      <td>365 Center St, San Francisco, CA 94016</td>\n",
       "      <td>4</td>\n",
       "      <td>5.98</td>\n",
       "      <td>San Francisco</td>\n",
       "      <td>17</td>\n",
       "      <td>AAA Batteries (4-pack),Google Phone</td>\n",
       "    </tr>\n",
       "    <tr>\n",
       "      <th>119</th>\n",
       "      <td>176672</td>\n",
       "      <td>Lightning Charging Cable</td>\n",
       "      <td>1</td>\n",
       "      <td>14.95</td>\n",
       "      <td>04/12/19 11:07</td>\n",
       "      <td>778 Maple St, New York City, NY 10001</td>\n",
       "      <td>4</td>\n",
       "      <td>14.95</td>\n",
       "      <td>New York City</td>\n",
       "      <td>11</td>\n",
       "      <td>Lightning Charging Cable,USB-C Charging Cable</td>\n",
       "    </tr>\n",
       "    <tr>\n",
       "      <th>...</th>\n",
       "      <td>...</td>\n",
       "      <td>...</td>\n",
       "      <td>...</td>\n",
       "      <td>...</td>\n",
       "      <td>...</td>\n",
       "      <td>...</td>\n",
       "      <td>...</td>\n",
       "      <td>...</td>\n",
       "      <td>...</td>\n",
       "      <td>...</td>\n",
       "      <td>...</td>\n",
       "    </tr>\n",
       "    <tr>\n",
       "      <th>11617</th>\n",
       "      <td>259296</td>\n",
       "      <td>Apple Airpods Headphones</td>\n",
       "      <td>1</td>\n",
       "      <td>150.00</td>\n",
       "      <td>09/28/19 16:48</td>\n",
       "      <td>894 6th St, Dallas, TX 75001</td>\n",
       "      <td>9</td>\n",
       "      <td>150.00</td>\n",
       "      <td>Dallas</td>\n",
       "      <td>16</td>\n",
       "      <td>Apple Airpods Headphones,Apple Airpods Headphones</td>\n",
       "    </tr>\n",
       "    <tr>\n",
       "      <th>11619</th>\n",
       "      <td>259297</td>\n",
       "      <td>iPhone</td>\n",
       "      <td>1</td>\n",
       "      <td>700.00</td>\n",
       "      <td>09/15/19 18:54</td>\n",
       "      <td>138 Main St, Boston, MA 02215</td>\n",
       "      <td>9</td>\n",
       "      <td>700.00</td>\n",
       "      <td>Boston</td>\n",
       "      <td>18</td>\n",
       "      <td>iPhone,Lightning Charging Cable,Lightning Char...</td>\n",
       "    </tr>\n",
       "    <tr>\n",
       "      <th>11627</th>\n",
       "      <td>259303</td>\n",
       "      <td>34in Ultrawide Monitor</td>\n",
       "      <td>1</td>\n",
       "      <td>379.99</td>\n",
       "      <td>09/20/19 20:18</td>\n",
       "      <td>106 7th St, Atlanta, GA 30301</td>\n",
       "      <td>9</td>\n",
       "      <td>379.99</td>\n",
       "      <td>Atlanta</td>\n",
       "      <td>20</td>\n",
       "      <td>34in Ultrawide Monitor,AA Batteries (4-pack)</td>\n",
       "    </tr>\n",
       "    <tr>\n",
       "      <th>11639</th>\n",
       "      <td>259314</td>\n",
       "      <td>Wired Headphones</td>\n",
       "      <td>1</td>\n",
       "      <td>11.99</td>\n",
       "      <td>09/16/19 00:25</td>\n",
       "      <td>241 Highland St, Atlanta, GA 30301</td>\n",
       "      <td>9</td>\n",
       "      <td>11.99</td>\n",
       "      <td>Atlanta</td>\n",
       "      <td>0</td>\n",
       "      <td>Wired Headphones,AAA Batteries (4-pack)</td>\n",
       "    </tr>\n",
       "    <tr>\n",
       "      <th>11677</th>\n",
       "      <td>259350</td>\n",
       "      <td>Google Phone</td>\n",
       "      <td>1</td>\n",
       "      <td>600.00</td>\n",
       "      <td>09/30/19 13:49</td>\n",
       "      <td>519 Maple St, San Francisco, CA 94016</td>\n",
       "      <td>9</td>\n",
       "      <td>600.00</td>\n",
       "      <td>San Francisco</td>\n",
       "      <td>13</td>\n",
       "      <td>Google Phone,USB-C Charging Cable</td>\n",
       "    </tr>\n",
       "  </tbody>\n",
       "</table>\n",
       "<p>7136 rows × 11 columns</p>\n",
       "</div>"
      ],
      "text/plain": [
       "      ID commande                     Produit  Quantite commande  \\\n",
       "3          176560                Google Phone                  1   \n",
       "18         176574                Google Phone                  1   \n",
       "30         176585  Bose SoundSport Headphones                  1   \n",
       "32         176586      AAA Batteries (4-pack)                  2   \n",
       "119        176672    Lightning Charging Cable                  1   \n",
       "...           ...                         ...                ...   \n",
       "11617      259296    Apple Airpods Headphones                  1   \n",
       "11619      259297                      iPhone                  1   \n",
       "11627      259303      34in Ultrawide Monitor                  1   \n",
       "11639      259314            Wired Headphones                  1   \n",
       "11677      259350                Google Phone                  1   \n",
       "\n",
       "       Prix unitaire   Date commande                           Adresse achat  \\\n",
       "3             600.00  04/12/19 14:38    669 Spruce St, Los Angeles, CA 90001   \n",
       "18            600.00  04/03/19 19:42       20 Hill St, Los Angeles, CA 90001   \n",
       "30             99.99  04/07/19 11:31       823 Highland St, Boston, MA 02215   \n",
       "32              2.99  04/10/19 17:00  365 Center St, San Francisco, CA 94016   \n",
       "119            14.95  04/12/19 11:07   778 Maple St, New York City, NY 10001   \n",
       "...              ...             ...                                     ...   \n",
       "11617         150.00  09/28/19 16:48            894 6th St, Dallas, TX 75001   \n",
       "11619         700.00  09/15/19 18:54           138 Main St, Boston, MA 02215   \n",
       "11627         379.99  09/20/19 20:18           106 7th St, Atlanta, GA 30301   \n",
       "11639          11.99  09/16/19 00:25      241 Highland St, Atlanta, GA 30301   \n",
       "11677         600.00  09/30/19 13:49   519 Maple St, San Francisco, CA 94016   \n",
       "\n",
       "       mois  Montant commande           Ville  Heure  \\\n",
       "3         4            600.00     Los Angeles     14   \n",
       "18        4            600.00     Los Angeles     19   \n",
       "30        4             99.99          Boston     11   \n",
       "32        4              5.98   San Francisco     17   \n",
       "119       4             14.95   New York City     11   \n",
       "...     ...               ...             ...    ...   \n",
       "11617     9            150.00          Dallas     16   \n",
       "11619     9            700.00          Boston     18   \n",
       "11627     9            379.99         Atlanta     20   \n",
       "11639     9             11.99         Atlanta      0   \n",
       "11677     9            600.00   San Francisco     13   \n",
       "\n",
       "                                                 grouped  \n",
       "3                          Google Phone,Wired Headphones  \n",
       "18                     Google Phone,USB-C Charging Cable  \n",
       "30     Bose SoundSport Headphones,Bose SoundSport Hea...  \n",
       "32                   AAA Batteries (4-pack),Google Phone  \n",
       "119        Lightning Charging Cable,USB-C Charging Cable  \n",
       "...                                                  ...  \n",
       "11617  Apple Airpods Headphones,Apple Airpods Headphones  \n",
       "11619  iPhone,Lightning Charging Cable,Lightning Char...  \n",
       "11627       34in Ultrawide Monitor,AA Batteries (4-pack)  \n",
       "11639            Wired Headphones,AAA Batteries (4-pack)  \n",
       "11677                  Google Phone,USB-C Charging Cable  \n",
       "\n",
       "[7136 rows x 11 columns]"
      ]
     },
     "execution_count": 223,
     "metadata": {},
     "output_type": "execute_result"
    }
   ],
   "source": [
    "#supprimer les id commande dupliqué\n",
    "df2=df.drop_duplicates(subset=['ID commande'])\n",
    "df2"
   ]
  },
  {
   "cell_type": "code",
   "execution_count": 231,
   "id": "ea2f4c82",
   "metadata": {},
   "outputs": [
    {
     "data": {
      "text/plain": [
       "<Axes: >"
      ]
     },
     "execution_count": 231,
     "metadata": {},
     "output_type": "execute_result"
    },
    {
     "data": {
      "image/png": "[encoded data removed]",
      "text/plain": [
       "<Figure size 640x480 with 1 Axes>"
      ]
     },
     "metadata": {},
     "output_type": "display_data"
    }
   ],
   "source": [
    "df2['grouped'].value_counts()[0:5].plot.bar()"
   ]
  },
  {
   "cell_type": "code",
   "execution_count": 225,
   "id": "9d89ece0",
   "metadata": {},
   "outputs": [
    {
     "data": {
      "text/plain": [
       "Index(['iPhone,Lightning Charging Cable', 'Google Phone,USB-C Charging Cable',\n",
       "       'iPhone,Wired Headphones', 'Vareebadd Phone,USB-C Charging Cable',\n",
       "       'Google Phone,Wired Headphones', 'iPhone,Apple Airpods Headphones',\n",
       "       'Google Phone,Bose SoundSport Headphones',\n",
       "       'Vareebadd Phone,Wired Headphones',\n",
       "       'Google Phone,USB-C Charging Cable,Wired Headphones',\n",
       "       'Vareebadd Phone,Bose SoundSport Headphones',\n",
       "       ...\n",
       "       'iPhone,Lightning Charging Cable,34in Ultrawide Monitor',\n",
       "       'LG Dryer,Wired Headphones', 'LG Washing Machine,iPhone',\n",
       "       'Google Phone,27in 4K Gaming Monitor', 'iPhone,iPhone',\n",
       "       'Google Phone,USB-C Charging Cable,Wired Headphones,USB-C Charging Cable',\n",
       "       '34in Ultrawide Monitor,LG Washing Machine', '20in Monitor,iPhone',\n",
       "       'Google Phone,USB-C Charging Cable,Wired Headphones,27in FHD Monitor',\n",
       "       'LG Washing Machine,AA Batteries (4-pack)'],\n",
       "      dtype='object', length=366)"
      ]
     },
     "execution_count": 225,
     "metadata": {},
     "output_type": "execute_result"
    }
   ],
   "source": [
    "df2['grouped'].value_counts().index"
   ]
  },
  {
   "cell_type": "code",
   "execution_count": 229,
   "id": "2db007f4",
   "metadata": {},
   "outputs": [
    {
     "data": {
      "text/plain": [
       "([0, 1, 2, 3, 4],\n",
       " [Text(0, 0, 'iPhone,Lightning Charging Cable'),\n",
       "  Text(1, 0, 'Google Phone,USB-C Charging Cable'),\n",
       "  Text(2, 0, 'iPhone,Wired Headphones'),\n",
       "  Text(3, 0, 'Vareebadd Phone,USB-C Charging Cable'),\n",
       "  Text(4, 0, 'Google Phone,Wired Headphones')])"
      ]
     },
     "execution_count": 229,
     "metadata": {},
     "output_type": "execute_result"
    },
    {
     "data": {
      "image/png": "[encoded data removed]",
      "text/plain": [
       "<Figure size 640x480 with 1 Axes>"
      ]
     },
     "metadata": {},
     "output_type": "display_data"
    }
   ],
   "source": [
    "q=df2['grouped'].value_counts()[0:5].values\n",
    "p=df2['grouped'].value_counts()[0:5].index\n",
    "plt.bar(p,q)\n",
    "plt.xticks(rotation='vertical')"
   ]
  },
  {
   "cell_type": "code",
   "execution_count": null,
   "id": "6de5268d",
   "metadata": {},
   "outputs": [],
   "source": []
  }
 ],
 "metadata": {
  "kernelspec": {
   "display_name": "Python 3 (ipykernel)",
   "language": "python",
   "name": "python3"
  },
  "language_info": {
   "codemirror_mode": {
    "name": "ipython",
    "version": 3
   },
   "file_extension": ".py",
   "mimetype": "text/x-python",
   "name": "python",
   "nbconvert_exporter": "python",
   "pygments_lexer": "ipython3",
   "version": "3.10.9"
  }
 },
 "nbformat": 4,
 "nbformat_minor": 5
}
